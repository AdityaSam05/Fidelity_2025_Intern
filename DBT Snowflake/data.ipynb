{
 "cells": [
  {
   "cell_type": "code",
   "execution_count": 1,
   "metadata": {},
   "outputs": [
    {
     "name": "stdout",
     "output_type": "stream",
     "text": [
      "Requirement already satisfied: snowflake-connector-python in c:\\2nd year\\dbt snowflake\\env_snowdbt\\lib\\site-packages (3.13.2)\n",
      "Requirement already satisfied: asn1crypto<2.0.0,>0.24.0 in c:\\2nd year\\dbt snowflake\\env_snowdbt\\lib\\site-packages (from snowflake-connector-python) (1.5.1)\n",
      "Requirement already satisfied: cffi<2.0.0,>=1.9 in c:\\2nd year\\dbt snowflake\\env_snowdbt\\lib\\site-packages (from snowflake-connector-python) (1.17.1)\n",
      "Requirement already satisfied: cryptography>=3.1.0 in c:\\2nd year\\dbt snowflake\\env_snowdbt\\lib\\site-packages (from snowflake-connector-python) (44.0.1)\n",
      "Requirement already satisfied: pyOpenSSL<25.0.0,>=22.0.0 in c:\\2nd year\\dbt snowflake\\env_snowdbt\\lib\\site-packages (from snowflake-connector-python) (24.3.0)\n",
      "Requirement already satisfied: pyjwt<3.0.0 in c:\\2nd year\\dbt snowflake\\env_snowdbt\\lib\\site-packages (from snowflake-connector-python) (2.10.1)\n",
      "Requirement already satisfied: pytz in c:\\2nd year\\dbt snowflake\\env_snowdbt\\lib\\site-packages (from snowflake-connector-python) (2025.1)\n",
      "Requirement already satisfied: requests<3.0.0 in c:\\2nd year\\dbt snowflake\\env_snowdbt\\lib\\site-packages (from snowflake-connector-python) (2.32.3)\n",
      "Requirement already satisfied: packaging in c:\\2nd year\\dbt snowflake\\env_snowdbt\\lib\\site-packages (from snowflake-connector-python) (24.2)\n",
      "Requirement already satisfied: charset_normalizer<4,>=2 in c:\\2nd year\\dbt snowflake\\env_snowdbt\\lib\\site-packages (from snowflake-connector-python) (3.4.1)\n",
      "Requirement already satisfied: idna<4,>=2.5 in c:\\2nd year\\dbt snowflake\\env_snowdbt\\lib\\site-packages (from snowflake-connector-python) (3.10)\n",
      "Requirement already satisfied: certifi>=2017.4.17 in c:\\2nd year\\dbt snowflake\\env_snowdbt\\lib\\site-packages (from snowflake-connector-python) (2025.1.31)\n",
      "Requirement already satisfied: typing_extensions<5,>=4.3 in c:\\2nd year\\dbt snowflake\\env_snowdbt\\lib\\site-packages (from snowflake-connector-python) (4.12.2)\n",
      "Requirement already satisfied: filelock<4,>=3.5 in c:\\2nd year\\dbt snowflake\\env_snowdbt\\lib\\site-packages (from snowflake-connector-python) (3.17.0)\n",
      "Requirement already satisfied: sortedcontainers>=2.4.0 in c:\\2nd year\\dbt snowflake\\env_snowdbt\\lib\\site-packages (from snowflake-connector-python) (2.4.0)\n",
      "Requirement already satisfied: platformdirs<5.0.0,>=2.6.0 in c:\\2nd year\\dbt snowflake\\env_snowdbt\\lib\\site-packages (from snowflake-connector-python) (4.3.6)\n",
      "Requirement already satisfied: tomlkit in c:\\2nd year\\dbt snowflake\\env_snowdbt\\lib\\site-packages (from snowflake-connector-python) (0.13.2)\n",
      "Requirement already satisfied: pycparser in c:\\2nd year\\dbt snowflake\\env_snowdbt\\lib\\site-packages (from cffi<2.0.0,>=1.9->snowflake-connector-python) (2.22)\n",
      "Requirement already satisfied: urllib3<3,>=1.21.1 in c:\\2nd year\\dbt snowflake\\env_snowdbt\\lib\\site-packages (from requests<3.0.0->snowflake-connector-python) (2.3.0)\n"
     ]
    },
    {
     "name": "stderr",
     "output_type": "stream",
     "text": [
      "\n",
      "[notice] A new release of pip is available: 24.2 -> 25.0.1\n",
      "[notice] To update, run: python.exe -m pip install --upgrade pip\n"
     ]
    }
   ],
   "source": [
    "!pip install snowflake-connector-python"
   ]
  },
  {
   "cell_type": "code",
   "execution_count": 4,
   "metadata": {},
   "outputs": [
    {
     "name": "stdout",
     "output_type": "stream",
     "text": [
      "Collecting pandas\n",
      "  Using cached pandas-2.2.3-cp312-cp312-win_amd64.whl.metadata (19 kB)\n",
      "Collecting numpy>=1.26.0 (from pandas)\n",
      "  Downloading numpy-2.2.3-cp312-cp312-win_amd64.whl.metadata (60 kB)\n",
      "Requirement already satisfied: python-dateutil>=2.8.2 in c:\\2nd year\\dbt snowflake\\env_snowdbt\\lib\\site-packages (from pandas) (2.9.0.post0)\n",
      "Requirement already satisfied: pytz>=2020.1 in c:\\2nd year\\dbt snowflake\\env_snowdbt\\lib\\site-packages (from pandas) (2025.1)\n",
      "Requirement already satisfied: tzdata>=2022.7 in c:\\2nd year\\dbt snowflake\\env_snowdbt\\lib\\site-packages (from pandas) (2025.1)\n",
      "Requirement already satisfied: six>=1.5 in c:\\2nd year\\dbt snowflake\\env_snowdbt\\lib\\site-packages (from python-dateutil>=2.8.2->pandas) (1.17.0)\n",
      "Using cached pandas-2.2.3-cp312-cp312-win_amd64.whl (11.5 MB)\n",
      "Downloading numpy-2.2.3-cp312-cp312-win_amd64.whl (12.6 MB)\n",
      "   ---------------------------------------- 0.0/12.6 MB ? eta -:--:--\n",
      "   ------------- -------------------------- 4.2/12.6 MB 20.9 MB/s eta 0:00:01\n",
      "   -------------------------- ------------- 8.4/12.6 MB 20.8 MB/s eta 0:00:01\n",
      "   ------------------------------------- -- 11.8/12.6 MB 18.9 MB/s eta 0:00:01\n",
      "   ---------------------------------------- 12.6/12.6 MB 18.4 MB/s eta 0:00:00\n",
      "Installing collected packages: numpy, pandas\n",
      "Successfully installed numpy-2.2.3 pandas-2.2.3\n"
     ]
    },
    {
     "name": "stderr",
     "output_type": "stream",
     "text": [
      "\n",
      "[notice] A new release of pip is available: 24.2 -> 25.0.1\n",
      "[notice] To update, run: python.exe -m pip install --upgrade pip\n"
     ]
    }
   ],
   "source": [
    "!pip install pandas"
   ]
  },
  {
   "cell_type": "code",
   "execution_count": 11,
   "metadata": {},
   "outputs": [],
   "source": [
    "import pandas as pd\n",
    "from snowflake.connector import connect"
   ]
  },
  {
   "cell_type": "code",
   "execution_count": 12,
   "metadata": {},
   "outputs": [],
   "source": [
    "con=connect(\n",
    "    user='Falafel007',\n",
    "    password='Snowflake__007',\n",
    "    account='tw76742.central-india.azure',\n",
    "    warehouse='fil_dw',\n",
    "    database='fil_db',\n",
    "    schema='fil_schema',\n",
    "    role='ACCOUNTADMIN'\n",
    ")"
   ]
  },
  {
   "cell_type": "code",
   "execution_count": 22,
   "metadata": {},
   "outputs": [
    {
     "data": {
      "text/plain": [
       "<snowflake.connector.cursor.SnowflakeCursor at 0x20542eb0b00>"
      ]
     },
     "execution_count": 22,
     "metadata": {},
     "output_type": "execute_result"
    }
   ],
   "source": [
    "cur=con.cursor()\n",
    "cur.execute(\"Select * from tips_table where tip>=5\")"
   ]
  },
  {
   "cell_type": "code",
   "execution_count": 23,
   "metadata": {},
   "outputs": [
    {
     "name": "stdout",
     "output_type": "stream",
     "text": [
      "   TOTAL_BILL    TIP     SEX  SMOKER   DAY    TIME  SIZE PRICE_PER_PERSON\n",
      "0       35.26   5.00  Female   False   Sun  Dinner     4             8.82\n",
      "1       39.42   7.58    Male   False   Sat  Dinner     4             9.86\n",
      "2       31.27   5.00    Male   False   Sat  Dinner     3            10.42\n",
      "3       30.40   5.60    Male   False   Sun  Dinner     4             7.60\n",
      "4       22.23   5.00    Male   False   Sun  Dinner     2            11.12\n",
      "5       32.40   6.00    Male   False   Sun  Dinner     4             8.10\n",
      "6       34.81   5.20  Female   False   Sun  Dinner     4             8.70\n",
      "7       48.27   6.73    Male   False   Sat  Dinner     4            12.07\n",
      "8       25.28   5.00  Female    True   Sat  Dinner     2            12.64\n",
      "9       32.68   5.00    Male    True  Thur   Lunch     2            16.34\n",
      "10      34.83   5.17  Female   False  Thur   Lunch     4             8.71\n",
      "11      24.71   5.85    Male   False  Thur   Lunch     2            12.36\n",
      "12      29.93   5.07    Male   False   Sun  Dinner     4             7.48\n",
      "13      34.30   6.70    Male   False  Thur   Lunch     6             5.72\n",
      "14      41.19   5.00    Male   False  Thur   Lunch     5             8.24\n",
      "15      27.05   5.00  Female   False  Thur   Lunch     6             4.51\n",
      "16      29.85   5.14  Female   False   Sun  Dinner     5             5.97\n",
      "17      48.17   5.00    Male   False   Sun  Dinner     6             8.03\n",
      "18      50.81  10.00    Male    True   Sat  Dinner     3            16.94\n",
      "19       7.25   5.15    Male    True   Sun  Dinner     2             3.62\n",
      "20      23.33   5.65    Male    True   Sun  Dinner     2            11.66\n",
      "21      23.17   6.50    Male    True   Sun  Dinner     4             5.79\n",
      "22      20.69   5.00    Male   False   Sun  Dinner     5             4.14\n",
      "23      43.11   5.00  Female    True  Thur   Lunch     4            10.78\n",
      "24      25.89   5.16    Male    True   Sat  Dinner     4             6.47\n",
      "25      48.33   9.00    Male   False   Sat  Dinner     4            12.08\n",
      "26      28.17   6.50  Female    True   Sat  Dinner     3             9.39\n",
      "27      29.03   5.92    Male   False   Sat  Dinner     3             9.68\n"
     ]
    }
   ],
   "source": [
    "data=cur.fetchall()\n",
    "df=pd.DataFrame(data,columns=[x[0] for x in cur.description])\n",
    "print(df)"
   ]
  }
 ],
 "metadata": {
  "kernelspec": {
   "display_name": "env_snowdbt",
   "language": "python",
   "name": "python3"
  },
  "language_info": {
   "codemirror_mode": {
    "name": "ipython",
    "version": 3
   },
   "file_extension": ".py",
   "mimetype": "text/x-python",
   "name": "python",
   "nbconvert_exporter": "python",
   "pygments_lexer": "ipython3",
   "version": "3.12.5"
  }
 },
 "nbformat": 4,
 "nbformat_minor": 2
}

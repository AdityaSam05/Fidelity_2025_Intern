{
 "cells": [
  {
   "cell_type": "code",
   "execution_count": 1,
   "metadata": {},
   "outputs": [
    {
     "ename": "ZeroDivisionError",
     "evalue": "division by zero",
     "output_type": "error",
     "traceback": [
      "\u001b[1;31m---------------------------------------------------------------------------\u001b[0m",
      "\u001b[1;31mZeroDivisionError\u001b[0m                         Traceback (most recent call last)",
      "Cell \u001b[1;32mIn[1], line 1\u001b[0m\n\u001b[1;32m----> 1\u001b[0m \u001b[38;5;28mprint\u001b[39m(\u001b[38;5;241;43m10\u001b[39;49m\u001b[38;5;241;43m/\u001b[39;49m\u001b[38;5;241;43m0\u001b[39;49m)\n\u001b[0;32m      2\u001b[0m \u001b[38;5;28mprint\u001b[39m(\u001b[38;5;124m\"\u001b[39m\u001b[38;5;124mHi\u001b[39m\u001b[38;5;124m\"\u001b[39m)\n",
      "\u001b[1;31mZeroDivisionError\u001b[0m: division by zero"
     ]
    }
   ],
   "source": [
    "print(10/0)\n",
    "print(\"Hi\")"
   ]
  },
  {
   "cell_type": "markdown",
   "metadata": {},
   "source": [
    "To handle this we use try and except"
   ]
  },
  {
   "cell_type": "code",
   "execution_count": 3,
   "metadata": {},
   "outputs": [
    {
     "name": "stdout",
     "output_type": "stream",
     "text": [
      "Error\n",
      "Hi\n"
     ]
    }
   ],
   "source": [
    "#Here, we are trying to handle this DivisionByZero Error\n",
    "try:\n",
    "    print(10/0)\n",
    "except:\n",
    "    print(\"Error\")\n",
    "print(\"Hi\")"
   ]
  },
  {
   "cell_type": "code",
   "execution_count": 13,
   "metadata": {},
   "outputs": [
    {
     "name": "stdout",
     "output_type": "stream",
     "text": [
      "Value Error\n"
     ]
    }
   ],
   "source": [
    "try:\n",
    "    x=int(input(\"Enter the number: \"))\n",
    "    y=int(input(\"Enter the number: \"))\n",
    "    print(x/y)\n",
    "except ZeroDivisionError:\n",
    "    print(\"Error\")\n",
    "except ValueError:\n",
    "    print(\"Value Error\")"
   ]
  },
  {
   "cell_type": "code",
   "execution_count": 8,
   "metadata": {},
   "outputs": [
    {
     "name": "stdout",
     "output_type": "stream",
     "text": [
      "Error\n",
      "Hi\n"
     ]
    }
   ],
   "source": [
    "try:\n",
    "    x=int(input(\"Enter the number: \"))\n",
    "    y=int(input(\"Enter the number: \"))\n",
    "    print(x/y)\n",
    "except ZeroDivisionError:\n",
    "    print(\"Error\")\n",
    "finally:        # Recommended\n",
    "    print(\"Hi\")"
   ]
  },
  {
   "cell_type": "code",
   "execution_count": 4,
   "metadata": {},
   "outputs": [
    {
     "name": "stdout",
     "output_type": "stream",
     "text": [
      "100.0\n",
      "Hello\n"
     ]
    }
   ],
   "source": [
    "try:\n",
    "    x=int(input(\"Enter the number: \"))\n",
    "    y=int(input(\"Enter the number: \"))\n",
    "    print(x/y)\n",
    "except ArithmeticError as msg:\n",
    "    print(msg.with_traceback)\n",
    "# This else block will execute only if there is no exception.\n",
    "else:\n",
    "    print(\"Hello\")"
   ]
  },
  {
   "cell_type": "markdown",
   "metadata": {},
   "source": [
    "To Create your own exception:"
   ]
  },
  {
   "cell_type": "code",
   "execution_count": 5,
   "metadata": {},
   "outputs": [
    {
     "ename": "TooyoungException",
     "evalue": "Welcome to Rajasthan",
     "output_type": "error",
     "traceback": [
      "\u001b[1;31m---------------------------------------------------------------------------\u001b[0m",
      "\u001b[1;31mTooyoungException\u001b[0m                         Traceback (most recent call last)",
      "Cell \u001b[1;32mIn[5], line 7\u001b[0m\n\u001b[0;32m      5\u001b[0m age\u001b[38;5;241m=\u001b[39m\u001b[38;5;241m10\u001b[39m\n\u001b[0;32m      6\u001b[0m \u001b[38;5;28;01mif\u001b[39;00m(age\u001b[38;5;241m<\u001b[39m\u001b[38;5;241m=\u001b[39m\u001b[38;5;241m18\u001b[39m):\n\u001b[1;32m----> 7\u001b[0m     \u001b[38;5;28;01mraise\u001b[39;00m TooyoungException(\u001b[38;5;124m\"\u001b[39m\u001b[38;5;124mWelcome to Rajasthan\u001b[39m\u001b[38;5;124m\"\u001b[39m)\n",
      "\u001b[1;31mTooyoungException\u001b[0m: Welcome to Rajasthan"
     ]
    }
   ],
   "source": [
    "# To create your own exception\n",
    "class TooyoungException(Exception):\n",
    "    def __init__(self, msg):\n",
    "        self.msg=msg\n",
    "        \n",
    "age=10\n",
    "if(age<=18):\n",
    "    raise TooyoungException(\"\")"
   ]
  },
  {
   "cell_type": "code",
   "execution_count": 1,
   "metadata": {},
   "outputs": [
    {
     "name": "stdout",
     "output_type": "stream",
     "text": [
      "ID must be longer than 4 digits.\n",
      "Employee name: , Role: aditya, Id: None\n"
     ]
    }
   ],
   "source": [
    "# Create a class employee which ask you to enter the emp_name, role and id. It should be 4 digit or more, if we provide less than 4 digit, less than 4 digit exception. If the value has a character other than number, raise an exception that enter only numbers\n",
    "class Invalid_ID(Exception):\n",
    "    def __init__(self, msg):\n",
    "        self.msg=msg\n",
    "class Employee:\n",
    "    def __init__(self):\n",
    "        self.name=input(\"Enter the name: \")\n",
    "        self.role=input(\"Enter the role: \")\n",
    "        self.id=self.get_id()\n",
    "    def get_id(self):\n",
    "        id=(input(\"Enter the id: \"))\n",
    "        try:\n",
    "            if(len(id) < 4):\n",
    "                raise Invalid_ID(\"ID must be longer than 4 digits.\")\n",
    "            if not(id.isdigit()):\n",
    "                raise Invalid_ID(\"ID must contain only numbers.\")\n",
    "        except Invalid_ID as e:\n",
    "            print(e.msg)\n",
    "            \n",
    "e=Employee()\n",
    "print(f\"Employee name: {e.name}, Role: {e.role}, Id: {e.id}\")"
   ]
  }
 ],
 "metadata": {
  "kernelspec": {
   "display_name": "Python 3",
   "language": "python",
   "name": "python3"
  },
  "language_info": {
   "codemirror_mode": {
    "name": "ipython",
    "version": 3
   },
   "file_extension": ".py",
   "mimetype": "text/x-python",
   "name": "python",
   "nbconvert_exporter": "python",
   "pygments_lexer": "ipython3",
   "version": "3.12.5"
  }
 },
 "nbformat": 4,
 "nbformat_minor": 2
}

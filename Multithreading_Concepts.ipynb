{
 "cells": [
  {
   "cell_type": "code",
   "execution_count": 3,
   "metadata": {},
   "outputs": [
    {
     "name": "stdout",
     "output_type": "stream",
     "text": [
      "MainThread\n"
     ]
    },
    {
     "name": "stderr",
     "output_type": "stream",
     "text": [
      "C:\\Users\\asus\\AppData\\Local\\Temp\\ipykernel_8836\\3049133128.py:2: DeprecationWarning: getName() is deprecated, get the name attribute instead\n",
      "  print(threading.current_thread().getName())\n"
     ]
    }
   ],
   "source": [
    "import threading\n",
    "print(threading.current_thread().getName())"
   ]
  },
  {
   "cell_type": "code",
   "execution_count": 13,
   "metadata": {},
   "outputs": [
    {
     "name": "stdout",
     "output_type": "stream",
     "text": [
      "This is child thread.\n",
      "This is child thread.\n",
      "This is child thread.\n",
      "This is child thread.\n",
      "This is child thread.\n",
      "This is child thread.\n",
      "This is child thread.\n",
      "This is child thread.\n",
      "This is child thread.\n",
      "Main Thread\n",
      "Main Thread\n",
      "Main Thread\n",
      "Main Thread\n",
      "Main Thread\n",
      "Main Thread\n",
      "Main Thread\n",
      "Main Thread\n",
      "Main Thread\n"
     ]
    }
   ],
   "source": [
    "from threading import *\n",
    "def dsp():\n",
    "    for i in range(1,10):\n",
    "        print(\"This is child thread.\")\n",
    "        \n",
    "t=Thread(target=dsp)\n",
    "t.start()\n",
    "for i in range(1,10):\n",
    "    print(\"Main Thread\")\n"
   ]
  },
  {
   "cell_type": "code",
   "execution_count": 27,
   "metadata": {},
   "outputs": [
    {
     "name": "stdout",
     "output_type": "stream",
     "text": [
      "5\n",
      "25\n",
      "125\n",
      "625\n",
      "3125\n",
      "15625\n",
      "78125\n",
      "390625\n",
      "1953125\n",
      "9765625\n",
      "10.005029678344727\n",
      "Time without multi-threading.\n",
      "Time with multi-threading. 0.0006577968597412109\n"
     ]
    },
    {
     "name": "stdout",
     "output_type": "stream",
     "text": [
      "5\n",
      "25\n",
      "125\n",
      "625\n",
      "3125\n",
      "15625\n",
      "78125\n",
      "390625\n",
      "1953125\n",
      "9765625\n"
     ]
    }
   ],
   "source": [
    "# You havr to create two functions, the power of 2 should be i every time and the other one is 5 to the power of i.\n",
    "from threading import *\n",
    "from time import *\n",
    "\n",
    "def power2():\n",
    "    for i in range(1,11):\n",
    "        sleep(1)\n",
    "        print(2**i)\n",
    "        return time()\n",
    "def power5():\n",
    "    for i in range(1,11):\n",
    "        sleep(1)\n",
    "        print(5**i)\n",
    "\n",
    "# b=time.time()\n",
    "# power2()\n",
    "# print(time.time()-b)\n",
    "b1=time()\n",
    "power5()\n",
    "print(time()-b1)\n",
    "print(\"Time without multi-threading.\")\n",
    "\n",
    "b1=time()\n",
    "t1=Thread(target=power5)\n",
    "t1.start()\n",
    "print(\"Time with multi-threading.\",time()-b1)\n",
    "\n"
   ]
  },
  {
   "cell_type": "code",
   "execution_count": 38,
   "metadata": {},
   "outputs": [
    {
     "name": "stdout",
     "output_type": "stream",
     "text": [
      "2\n",
      "4\n",
      "8\n",
      "16\n",
      "32\n",
      "64\n",
      "128\n",
      "256\n",
      "512\n",
      "1024\n",
      "Time without multi-threading. 10.005651235580444\n",
      "2\n",
      "4\n",
      "8\n",
      "16\n",
      "32\n",
      "64\n",
      "128\n",
      "256\n",
      "512\n",
      "1024\n",
      "time with multi-threading 10.007005214691162\n"
     ]
    }
   ],
   "source": [
    "# You havr to create two functions, the power of 2 should be i every time and the other one is 5 to the power of i.\n",
    "from threading import *\n",
    "from time import *\n",
    "\n",
    "def power2():\n",
    "    for i in range(1,11):\n",
    "        sleep(1)\n",
    "        print(2**i)\n",
    "def power5():\n",
    "    for i in range(1,11):\n",
    "        sleep(1)\n",
    "        print(5**i)\n",
    "\n",
    "start2=time()\n",
    "power2()\n",
    "print(\"Time without multi-threading.\", time()-start2)\n",
    "\n",
    "start22=time()\n",
    "t1=Thread(target=power2())\n",
    "t1.start()\n",
    "t1.join()\n",
    "print(\"time with multi-threading\",time()-start22)\n",
    "\n",
    "\n",
    "# b1=time()\n",
    "# t1=Thread(target=power5)\n",
    "# t1.start()\n",
    "# print(\"Time with multi-threading.\",time()-b1)\n",
    "\n"
   ]
  },
  {
   "cell_type": "code",
   "execution_count": 45,
   "metadata": {},
   "outputs": [
    {
     "name": "stdout",
     "output_type": "stream",
     "text": [
      "Hi, How u doin?"
     ]
    },
    {
     "name": "stdout",
     "output_type": "stream",
     "text": [
      "Rahul\n",
      "Hi, How u doin?Rahul\n",
      "Hi, How u doin?Rahul\n",
      "Hi, How u doin?Rahul\n",
      "Hi, How u doin?Rahul\n",
      "Hi, How u doin?Jayesh\n",
      "Hi, How u doin?Jayesh\n",
      "Hi, How u doin?Jayesh\n",
      "Hi, How u doin?Jayesh\n",
      "Hi, How u doin?Jayesh\n"
     ]
    }
   ],
   "source": [
    "import time\n",
    "l=Lock()\n",
    "def wish(name):\n",
    "    l.acquire()\n",
    "    for i in range(5):\n",
    "        print(\"Hi, How u doin?\",end=\"\")\n",
    "        time.sleep(2)\n",
    "        print(name)\n",
    "    l.release()\n",
    "t1=Thread(target=wish,args=(\"Rahul\",))\n",
    "t2=Thread(target=wish,args=(\"Jayesh\",))\n",
    "t1.start()\n",
    "t2.start()"
   ]
  },
  {
   "cell_type": "code",
   "execution_count": 49,
   "metadata": {},
   "outputs": [
    {
     "name": "stdout",
     "output_type": "stream",
     "text": [
      "Hi, How u doin? SamdaniHi, How u doin? Aditya"
     ]
    },
    {
     "name": "stdout",
     "output_type": "stream",
     "text": [
      "Aditya\n",
      "Hi, How u doin? AdityaSamdani\n",
      "Hi, How u doin? SamdaniSamdaniAditya\n",
      "Hi, How u doin? Aditya\n",
      "Hi, How u doin? SamdaniSamdaniAditya\n",
      "Hi, How u doin? Aditya\n",
      "Hi, How u doin? SamdaniSamdaniAditya\n",
      "Hi, How u doin? Aditya\n",
      "Hi, How u doin? SamdaniSamdaniAditya\n",
      "\n",
      "Hi, How u doin? JayeshHi, How u doin? AgarwalAgarwal\n",
      "Hi, How u doin? AgarwalJayesh\n",
      "Hi, How u doin? JayeshAgarwalJayesh\n",
      "Hi, How u doin? Jayesh\n",
      "Hi, How u doin? AgarwalJayesh\n",
      "Hi, How u doin? JayeshAgarwal\n",
      "Hi, How u doin? AgarwalAgarwalJayesh\n",
      "Hi, How u doin? Jayesh\n",
      "Hi, How u doin? AgarwalJayeshAgarwal\n",
      "\n"
     ]
    }
   ],
   "source": [
    "import time\n",
    "l=Semaphore(2)\n",
    "def wish(name):\n",
    "    l.acquire()\n",
    "    for i in range(5):\n",
    "        print(\"Hi, How u doin?\",name,end=\"\")\n",
    "        time.sleep(2)\n",
    "        print(name)\n",
    "    l.release()\n",
    "t1=Thread(target=wish,args=(\"Samdani\",))\n",
    "t2=Thread(target=wish,args=(\"Aditya\",))\n",
    "t3=Thread(target=wish,args=(\"Jayesh\",))\n",
    "t4=Thread(target=wish,args=(\"Agarwal\",))\n",
    "t1.start()\n",
    "t2.start()\n",
    "t3.start()\n",
    "t4.start()"
   ]
  }
 ],
 "metadata": {
  "kernelspec": {
   "display_name": "Python 3",
   "language": "python",
   "name": "python3"
  },
  "language_info": {
   "codemirror_mode": {
    "name": "ipython",
    "version": 3
   },
   "file_extension": ".py",
   "mimetype": "text/x-python",
   "name": "python",
   "nbconvert_exporter": "python",
   "pygments_lexer": "ipython3",
   "version": "3.12.5"
  }
 },
 "nbformat": 4,
 "nbformat_minor": 2
}

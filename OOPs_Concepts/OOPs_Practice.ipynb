{
 "cells": [
  {
   "cell_type": "code",
   "execution_count": 2,
   "metadata": {},
   "outputs": [
    {
     "name": "stdout",
     "output_type": "stream",
     "text": [
      "Aditya 21\n"
     ]
    }
   ],
   "source": [
    "class Student:\n",
    "    def __init__(self):\n",
    "        self.name=\"Aditya\"\n",
    "        self.age=21\n",
    "    def dsp(self):\n",
    "        print(self.name,self.age)\n",
    "\n",
    "s=Student()\n",
    "s.dsp()"
   ]
  },
  {
   "cell_type": "code",
   "execution_count": 3,
   "metadata": {},
   "outputs": [
    {
     "name": "stdout",
     "output_type": "stream",
     "text": [
      "Aditya 21\n"
     ]
    }
   ],
   "source": [
    "class Student:\n",
    "    def __init__(self,name,age): #This is a parameterized constructor\n",
    "        self.name=name\n",
    "        self.age=age\n",
    "    def dsp(self):\n",
    "        print(self.name,self.age)\n",
    "\n",
    "s=Student(\"Aditya\",21)\n",
    "s.dsp()"
   ]
  },
  {
   "cell_type": "code",
   "execution_count": null,
   "metadata": {},
   "outputs": [],
   "source": [
    "class Student:\n",
    "    a=10\n",
    "    def dsp(self):\n",
    "        pass\n",
    "s=Student()\n",
    "s.dsp()"
   ]
  },
  {
   "cell_type": "code",
   "execution_count": 10,
   "metadata": {},
   "outputs": [
    {
     "name": "stdout",
     "output_type": "stream",
     "text": [
      "Function-Call!\n"
     ]
    }
   ],
   "source": [
    "class Student:\n",
    "    def __init__(self,name,age): #This is a parameterized constructor\n",
    "        self.name=name\n",
    "        self.age=age\n",
    "    def dsp(self):\n",
    "        print(self.name,self.age)\n",
    "def Student():\n",
    "    print(\"Function-Call!\") # If we make a function with the same name as the class, if we try to create an object using the class name. The function will be called.\n",
    "\n",
    "# s=Student(\"Aditya\",21)\n",
    "# s.dsp()\n",
    "s=Student() # If we want to call the class then we have ti use namespaces."
   ]
  },
  {
   "cell_type": "code",
   "execution_count": 6,
   "metadata": {},
   "outputs": [
    {
     "name": "stdout",
     "output_type": "stream",
     "text": [
      "10\n",
      "10\n"
     ]
    }
   ],
   "source": [
    "# Class Method\n",
    "class Student:\n",
    "    __a=10\n",
    "    def dsp(self):\n",
    "        print(self.__a)\n",
    "    @classmethod\n",
    "    def m1(cls):\n",
    "        print(cls.__a)\n",
    "s=Student()\n",
    "s.m1()\n",
    "Student.m1()"
   ]
  },
  {
   "cell_type": "code",
   "execution_count": 15,
   "metadata": {},
   "outputs": [
    {
     "name": "stdout",
     "output_type": "stream",
     "text": [
      "<__main__.Customer object at 0x0000017329855C40>\n",
      "40\n",
      "70\n",
      "Insufficient money\n",
      "Balance---> 70\n"
     ]
    }
   ],
   "source": [
    "# Create a class called customer that contains name and balance. And the methods are deposit and withdraw\n",
    "\n",
    "class Customer:\n",
    "    def __init__(self,name,balance):\n",
    "        self.name=name\n",
    "        self.balance=balance\n",
    "\n",
    "    \n",
    "    def deposit(self,amount):\n",
    "        if(amount>0):\n",
    "            self.balance+=amount\n",
    "            print(amount)\n",
    "    def withdraw(self,amount):\n",
    "        if(self.balance>amount>0):\n",
    "            self.balance-=amount\n",
    "            print(amount)\n",
    "        elif(amount>self.balance):\n",
    "            print(\"Insufficient money\")\n",
    "    def check_balance(self):\n",
    "        return self.balance\n",
    "    \n",
    "if __name__==\"__main__\":\n",
    "    c1=Customer(\"Sarthak\",100)\n",
    "    print(c1)\n",
    "    c1.deposit(40)\n",
    "    c1.withdraw(70)\n",
    "    c1.withdraw(100)\n",
    "    print(\"Balance--->\",c1.check_balance())\n",
    "        "
   ]
  },
  {
   "cell_type": "code",
   "execution_count": 16,
   "metadata": {},
   "outputs": [
    {
     "name": "stdout",
     "output_type": "stream",
     "text": [
      "10\n",
      "20\n",
      "10\n"
     ]
    }
   ],
   "source": [
    "class Engine:\n",
    "    a=10\n",
    "    def __init__(self):\n",
    "        self.b=20\n",
    "    def m1(self):\n",
    "        print(self.a)\n",
    "        \n",
    "class Car:\n",
    "    def __init__(self):\n",
    "        self.engine=Engine()\n",
    "    def m2(self):\n",
    "        print(self.engine.a)\n",
    "        print(self.engine.b)\n",
    "        self.engine.m1()\n",
    "c=Car()\n",
    "c.m2()"
   ]
  },
  {
   "cell_type": "code",
   "execution_count": 5,
   "metadata": {},
   "outputs": [
    {
     "name": "stdout",
     "output_type": "stream",
     "text": [
      "Employee Name:  Sam\n",
      "Employee ID:  A983792\n",
      "Employee Car:  <__main__.Car object at 0x0000027AD0E2ABA0>\n"
     ]
    }
   ],
   "source": [
    "# Create a class car with parameterized constructors name, model and colour. It has one display method that displays the info abou the car\n",
    "# Employee is another class with name, eid and his car\n",
    "\n",
    "class Car:\n",
    "    def __init__(self,name,model,color):\n",
    "        self.name=name\n",
    "        self.model=model\n",
    "        self.color=color\n",
    "    def display(self):\n",
    "        print(\"Car Name: \",self.name)\n",
    "        print(\"Car Model: \",self.model)\n",
    "        print(\"Car Color: \",self.color)\n",
    "\n",
    "class Employee:\n",
    "    def __init__(self,name,eid,car):\n",
    "        self.name=name\n",
    "        self.eid=eid\n",
    "        self.car=car\n",
    "    def display1(self):\n",
    "        print(\"Employee Name: \",self.name)\n",
    "        print(\"Employee ID: \",self.eid)\n",
    "        print(\"Employee Car: \",self.car)\n",
    "        \n",
    "car=Car(\"BMW\",\"GL60\",\"Black\")\n",
    "employee=Employee(\"Sam\",\"A983792\",car)\n",
    "\n",
    "employee.display1()"
   ]
  },
  {
   "cell_type": "code",
   "execution_count": 8,
   "metadata": {},
   "outputs": [
    {
     "name": "stdout",
     "output_type": "stream",
     "text": [
      "static method\n",
      "None\n"
     ]
    }
   ],
   "source": [
    "class P:\n",
    "    \n",
    "    a=10\n",
    "    def __init__(self):\n",
    "        self.b=20\n",
    "    \n",
    "    def m1(self):\n",
    "        print(\"Parent instance method\")\n",
    "    @classmethod\n",
    "    def m2(cls):\n",
    "        print(\"class method\")\n",
    "    \n",
    "    @staticmethod\n",
    "    def m3():\n",
    "        print(\"static method\")\n",
    "\n",
    "class C(P):\n",
    "    pass\n",
    "c=C()\n",
    "print(c.m3())"
   ]
  },
  {
   "cell_type": "code",
   "execution_count": 17,
   "metadata": {},
   "outputs": [
    {
     "name": "stdout",
     "output_type": "stream",
     "text": [
      "(<__main__.Person object at 0x0000027AD0FAE6F0>, 19, '33223') 40000\n"
     ]
    }
   ],
   "source": [
    "# Create a class Person which has\n",
    "\n",
    "class Person:\n",
    "    def __init__(self,name,age,id):\n",
    "        self.name=name \n",
    "        self.age=age\n",
    "        self.id=id\n",
    "    def getinfo(self):\n",
    "        return self.name,self.age,self.id\n",
    "class Employee(Person):\n",
    "    def __init__(self, name, age, id,sal):\n",
    "        self.salary=sal\n",
    "        super().__init__(name, age, id)\n",
    "    def dsp(self):\n",
    "        print(super().getinfo(),self.salary)\n",
    "        \n",
    "p=Person(\"Alan\",19,'33223')\n",
    "e=Employee(p,19,'33223',40000)\n",
    "e.dsp()"
   ]
  },
  {
   "cell_type": "code",
   "execution_count": 34,
   "metadata": {},
   "outputs": [
    {
     "name": "stdout",
     "output_type": "stream",
     "text": [
      "I am class C\n",
      "None\n",
      "(<class '__main__.C'>, <class '__main__.B'>, <class '__main__.A'>, <class 'object'>)\n"
     ]
    }
   ],
   "source": [
    "# Method Resolution Order(MRO)\n",
    "class A:  \n",
    "    def name(self):  \n",
    "        print(\"I am class A\")  \n",
    "  \n",
    "class B(A):  \n",
    "    def name(self):  \n",
    "        print(\"I am class B\")  \n",
    "  \n",
    "class C(B):  \n",
    "    def name(self):  \n",
    "        print(\"I am class C\")   \n",
    "c=C()  \n",
    "print(c.name())\n",
    "print(C.__mro__)"
   ]
  },
  {
   "cell_type": "code",
   "execution_count": 30,
   "metadata": {},
   "outputs": [
    {
     "name": "stdout",
     "output_type": "stream",
     "text": [
      "10\n"
     ]
    }
   ],
   "source": [
    "# Constructor Overloading(Although not supported but can be performed)\n",
    "class Example:\n",
    "    def __init__(self,a=None,b=None):\n",
    "        self.a=a\n",
    "        self.b=b\n",
    "    def __str__(self):\n",
    "        return str(self.a)\n",
    "    \n",
    "e1=Example()\n",
    "e2=Example(10)\n",
    "print(e2)"
   ]
  },
  {
   "cell_type": "code",
   "execution_count": null,
   "metadata": {},
   "outputs": [],
   "source": [
    "class P:\n",
    "    def m1():\n",
    "        print(\"Parent Class\")\n",
    "class C(P):\n",
    "    def m1():\n",
    "        print(\"Child Class\")\n",
    "c=C()\n"
   ]
  },
  {
   "cell_type": "code",
   "execution_count": 41,
   "metadata": {},
   "outputs": [
    {
     "name": "stdout",
     "output_type": "stream",
     "text": [
      "Name is Alice and Age is 32\n"
     ]
    }
   ],
   "source": [
    "class Student:\n",
    "    def __init__(self,name,age):\n",
    "        self.name=name\n",
    "        self.age=age\n",
    "    def __str__(self):\n",
    "        return (\"Name is {} and Age is {}\".format(self.name,self.age))\n",
    "s=Student(\"Alice\",32)\n",
    "print(s)"
   ]
  },
  {
   "cell_type": "code",
   "execution_count": 44,
   "metadata": {},
   "outputs": [
    {
     "name": "stdout",
     "output_type": "stream",
     "text": [
      "Alice's age is 32\n"
     ]
    }
   ],
   "source": [
    "class Student:\n",
    "    def __init__(self,name,age):\n",
    "        self.name=name\n",
    "        self.age=age\n",
    "    def __str__(self):\n",
    "        msg=f'{self.name}\\'s age is {self.age}'\n",
    "        return msg\n",
    "s=Student(\"Alice\",32)\n",
    "print(s)"
   ]
  },
  {
   "cell_type": "code",
   "execution_count": 2,
   "metadata": {},
   "outputs": [
    {
     "name": "stdout",
     "output_type": "stream",
     "text": [
      "100\n",
      "100\n",
      "100\n"
     ]
    }
   ],
   "source": [
    "class Student:\n",
    "    data=100\n",
    "class C(Student):\n",
    "    pass\n",
    "s1=Student()\n",
    "print(s1.data)\n",
    "print(Student.data)\n",
    "c=C()\n",
    "print(c.data)"
   ]
  },
  {
   "cell_type": "code",
   "execution_count": null,
   "metadata": {},
   "outputs": [],
   "source": [
    "# Abstarct Class\n",
    "from abc import *\n",
    "class Example(ABC):\n",
    "    @abstractmethod\n",
    "    def m1():\n",
    "        pass"
   ]
  },
  {
   "cell_type": "code",
   "execution_count": 4,
   "metadata": {},
   "outputs": [
    {
     "ename": "TypeError",
     "evalue": "Hp.printing() missing 2 required positional arguments: 'self' and 'text'",
     "output_type": "error",
     "traceback": [
      "\u001b[1;31m---------------------------------------------------------------------------\u001b[0m",
      "\u001b[1;31mTypeError\u001b[0m                                 Traceback (most recent call last)",
      "Cell \u001b[1;32mIn[4], line 10\u001b[0m\n\u001b[0;32m      7\u001b[0m     \u001b[38;5;28;01mdef\u001b[39;00m \u001b[38;5;21mprinting\u001b[39m(\u001b[38;5;28mself\u001b[39m,text):\n\u001b[0;32m      8\u001b[0m         \u001b[38;5;28;01mreturn\u001b[39;00m \u001b[38;5;124m\"\u001b[39m\u001b[38;5;124mHp Printing\u001b[39m\u001b[38;5;124m\"\u001b[39m \u001b[38;5;66;03m#Here, we will not know how the printing method was implemented, we'll just be overriding the body as per our requirements.\u001b[39;00m\n\u001b[1;32m---> 10\u001b[0m \u001b[43mHp\u001b[49m\u001b[38;5;241;43m.\u001b[39;49m\u001b[43mprinting\u001b[49m\u001b[43m(\u001b[49m\u001b[43m)\u001b[49m\n",
      "\u001b[1;31mTypeError\u001b[0m: Hp.printing() missing 2 required positional arguments: 'self' and 'text'"
     ]
    }
   ],
   "source": [
    "from abc import *\n",
    "class Printer(ABC):\n",
    "    @abstractmethod\n",
    "    def printing(self,text):\n",
    "        pass\n",
    "class Hp(Printer):\n",
    "    def printing(self,text):\n",
    "        return \"Hp Printing\" #Here, we will not know how the printing method was implemented, we'll just be overriding the body as per our requirements.\n",
    "\n"
   ]
  },
  {
   "cell_type": "code",
   "execution_count": 10,
   "metadata": {},
   "outputs": [
    {
     "name": "stdout",
     "output_type": "stream",
     "text": [
      "20\n",
      "30\n",
      "10\n",
      "20\n"
     ]
    },
    {
     "ename": "AttributeError",
     "evalue": "type object 'Test' has no attribute '__z'",
     "output_type": "error",
     "traceback": [
      "\u001b[1;31m---------------------------------------------------------------------------\u001b[0m",
      "\u001b[1;31mAttributeError\u001b[0m                            Traceback (most recent call last)",
      "Cell \u001b[1;32mIn[10], line 13\u001b[0m\n\u001b[0;32m     11\u001b[0m \u001b[38;5;28mprint\u001b[39m(Test\u001b[38;5;241m.\u001b[39mx)\n\u001b[0;32m     12\u001b[0m \u001b[38;5;28mprint\u001b[39m(Test\u001b[38;5;241m.\u001b[39m_y)\n\u001b[1;32m---> 13\u001b[0m \u001b[38;5;28mprint\u001b[39m(\u001b[43mTest\u001b[49m\u001b[38;5;241;43m.\u001b[39;49m\u001b[43m__z\u001b[49m)\n",
      "\u001b[1;31mAttributeError\u001b[0m: type object 'Test' has no attribute '__z'"
     ]
    }
   ],
   "source": [
    "class Test:\n",
    "    x=10 #Public Variable\n",
    "    _y=20 #Protected Variable\n",
    "    __z=30 #Private Variable\n",
    "    \n",
    "    def m1(self):\n",
    "        print(self.x)\n",
    "        print(self._y)\n",
    "        print(self.__z)\n",
    "obj=Test()\n",
    "obj.m1()\n",
    "print(Test.x)\n",
    "print(Test._y)#Since, it is protected it has a default nature so it is accessible\n",
    "print(Test.__z)#Since, it is private it cannot be accessed "
   ]
  },
  {
   "cell_type": "code",
   "execution_count": 13,
   "metadata": {},
   "outputs": [
    {
     "name": "stdout",
     "output_type": "stream",
     "text": [
      "hello\n"
     ]
    }
   ],
   "source": [
    "x=10\n",
    "if x==10:\n",
    "    print(\"hello\")"
   ]
  }
 ],
 "metadata": {
  "kernelspec": {
   "display_name": "Python 3",
   "language": "python",
   "name": "python3"
  },
  "language_info": {
   "codemirror_mode": {
    "name": "ipython",
    "version": 3
   },
   "file_extension": ".py",
   "mimetype": "text/x-python",
   "name": "python",
   "nbconvert_exporter": "python",
   "pygments_lexer": "ipython3",
   "version": "3.12.5"
  }
 },
 "nbformat": 4,
 "nbformat_minor": 2
}

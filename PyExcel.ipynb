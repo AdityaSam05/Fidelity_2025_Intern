{
 "cells": [
  {
   "cell_type": "code",
   "execution_count": 1,
   "metadata": {},
   "outputs": [
    {
     "name": "stdout",
     "output_type": "stream",
     "text": [
      "Requirement already satisfied: openpyexcel in c:\\users\\asus\\appdata\\local\\programs\\python\\python312\\lib\\site-packages (2.5.14)\n",
      "Requirement already satisfied: jdcal in c:\\users\\asus\\appdata\\local\\programs\\python\\python312\\lib\\site-packages (from openpyexcel) (1.4.1)\n",
      "Requirement already satisfied: et-xmlfile in c:\\users\\asus\\appdata\\local\\programs\\python\\python312\\lib\\site-packages (from openpyexcel) (1.1.0)\n"
     ]
    },
    {
     "name": "stderr",
     "output_type": "stream",
     "text": [
      "\n",
      "[notice] A new release of pip is available: 24.3.1 -> 25.0.1\n",
      "[notice] To update, run: python.exe -m pip install --upgrade pip\n"
     ]
    }
   ],
   "source": [
    "!pip install openpyexcel"
   ]
  },
  {
   "cell_type": "code",
   "execution_count": 2,
   "metadata": {},
   "outputs": [],
   "source": [
    "import openpyexcel as ss\n",
    "from openpyxl import Workbook"
   ]
  },
  {
   "cell_type": "code",
   "execution_count": 3,
   "metadata": {},
   "outputs": [],
   "source": [
    "path=\"C:\\\\2nd year\\\\Fidelity_2025_Intern\\\\tips.xlsx\"\n",
    "wb_obj=ss.load_workbook(path)"
   ]
  },
  {
   "cell_type": "code",
   "execution_count": 4,
   "metadata": {},
   "outputs": [],
   "source": [
    "sh_obj=wb_obj.active"
   ]
  },
  {
   "cell_type": "code",
   "execution_count": 5,
   "metadata": {},
   "outputs": [
    {
     "data": {
      "text/plain": [
       "'s'"
      ]
     },
     "execution_count": 5,
     "metadata": {},
     "output_type": "execute_result"
    }
   ],
   "source": [
    "cell_obj=sh_obj.cell(row=4,column=3)\n",
    "cell_obj.data_type"
   ]
  },
  {
   "cell_type": "code",
   "execution_count": 6,
   "metadata": {},
   "outputs": [
    {
     "data": {
      "text/plain": [
       "11"
      ]
     },
     "execution_count": 6,
     "metadata": {},
     "output_type": "execute_result"
    }
   ],
   "source": [
    "cols=sh_obj.max_column\n",
    "cols"
   ]
  },
  {
   "cell_type": "code",
   "execution_count": 7,
   "metadata": {},
   "outputs": [
    {
     "data": {
      "text/plain": [
       "245"
      ]
     },
     "execution_count": 7,
     "metadata": {},
     "output_type": "execute_result"
    }
   ],
   "source": [
    "rows=sh_obj.max_row\n",
    "rows"
   ]
  },
  {
   "cell_type": "code",
   "execution_count": 8,
   "metadata": {},
   "outputs": [
    {
     "name": "stdout",
     "output_type": "stream",
     "text": [
      "total_bill\n",
      "16.99\n",
      "10.34\n",
      "21.01\n",
      "23.68\n",
      "24.59\n",
      "25.29\n",
      "8.77\n",
      "26.88\n",
      "15.04\n",
      "14.78\n",
      "10.27\n",
      "35.26\n",
      "15.42\n",
      "18.43\n",
      "14.83\n",
      "21.58\n",
      "10.33\n",
      "16.29\n",
      "16.97\n",
      "20.65\n",
      "17.92\n",
      "20.29\n",
      "15.77\n",
      "39.42\n",
      "19.82\n",
      "17.81\n",
      "13.37\n",
      "12.69\n",
      "21.7\n",
      "19.65\n",
      "9.55\n",
      "18.35\n",
      "15.06\n",
      "20.69\n",
      "17.78\n",
      "24.06\n",
      "16.31\n",
      "16.93\n",
      "18.69\n",
      "31.27\n",
      "16.04\n",
      "17.46\n",
      "13.94\n",
      "9.68\n",
      "30.4\n",
      "18.29\n",
      "22.23\n",
      "32.4\n",
      "28.55\n",
      "18.04\n",
      "12.54\n",
      "10.29\n",
      "34.81\n",
      "9.94\n",
      "25.56\n",
      "19.49\n",
      "38.01\n",
      "26.41\n",
      "11.24\n",
      "48.27\n",
      "20.29\n",
      "13.81\n",
      "11.02\n",
      "18.29\n",
      "17.59\n",
      "20.08\n",
      "16.45\n",
      "3.07\n",
      "20.23\n",
      "15.01\n",
      "12.02\n",
      "17.07\n",
      "26.86\n",
      "25.28\n",
      "14.73\n",
      "10.51\n",
      "17.92\n",
      "27.2\n",
      "22.76\n",
      "17.29\n",
      "19.44\n",
      "16.66\n",
      "10.07\n",
      "32.68\n",
      "15.98\n",
      "34.83\n",
      "13.03\n",
      "18.28\n",
      "24.71\n",
      "21.16\n",
      "28.97\n",
      "22.49\n",
      "5.75\n",
      "16.32\n",
      "22.75\n",
      "40.17\n",
      "27.28\n",
      "12.03\n",
      "21.01\n",
      "12.46\n",
      "11.35\n",
      "15.38\n",
      "44.3\n",
      "22.42\n",
      "20.92\n",
      "15.36\n",
      "20.49\n",
      "25.21\n",
      "18.24\n",
      "14.31\n",
      "14\n",
      "7.25\n",
      "38.07\n",
      "23.95\n",
      "25.71\n",
      "17.31\n",
      "29.93\n",
      "10.65\n",
      "12.43\n",
      "24.08\n",
      "11.69\n",
      "13.42\n",
      "14.26\n",
      "15.95\n",
      "12.48\n",
      "29.8\n",
      "8.52\n",
      "14.52\n",
      "11.38\n",
      "22.82\n",
      "19.08\n",
      "20.27\n",
      "11.17\n",
      "12.26\n",
      "18.26\n",
      "8.51\n",
      "10.33\n",
      "14.15\n",
      "16\n",
      "13.16\n",
      "17.47\n",
      "34.3\n",
      "41.19\n",
      "27.05\n",
      "16.43\n",
      "8.35\n",
      "18.64\n",
      "11.87\n",
      "9.78\n",
      "7.51\n",
      "14.07\n",
      "13.13\n",
      "17.26\n",
      "24.55\n",
      "19.77\n",
      "29.85\n",
      "48.17\n",
      "25\n",
      "13.39\n",
      "16.49\n",
      "21.5\n",
      "12.66\n",
      "16.21\n",
      "13.81\n",
      "17.51\n",
      "24.52\n",
      "20.76\n",
      "31.71\n",
      "10.59\n",
      "10.63\n",
      "50.81\n",
      "15.81\n",
      "7.25\n",
      "31.85\n",
      "16.82\n",
      "32.9\n",
      "17.89\n",
      "14.48\n",
      "9.6\n",
      "34.63\n",
      "34.65\n",
      "23.33\n",
      "45.35\n",
      "23.17\n",
      "40.55\n",
      "20.69\n",
      "20.9\n",
      "30.46\n",
      "18.15\n",
      "23.1\n",
      "15.69\n",
      "19.81\n",
      "28.44\n",
      "15.48\n",
      "16.58\n",
      "7.56\n",
      "10.34\n",
      "43.11\n",
      "13\n",
      "13.51\n",
      "18.71\n",
      "12.74\n",
      "13\n",
      "16.4\n",
      "20.53\n",
      "16.47\n",
      "26.59\n",
      "38.73\n",
      "24.27\n",
      "12.76\n",
      "30.06\n",
      "25.89\n",
      "48.33\n",
      "13.27\n",
      "28.17\n",
      "12.9\n",
      "28.15\n",
      "11.59\n",
      "7.74\n",
      "30.14\n",
      "12.16\n",
      "13.42\n",
      "8.58\n",
      "15.98\n",
      "13.42\n",
      "16.27\n",
      "10.09\n",
      "20.45\n",
      "13.28\n",
      "22.12\n",
      "24.01\n",
      "15.69\n",
      "11.61\n",
      "10.77\n",
      "15.53\n",
      "10.07\n",
      "12.6\n",
      "32.83\n",
      "35.83\n",
      "29.03\n",
      "27.18\n",
      "22.67\n",
      "17.82\n",
      "18.78\n"
     ]
    }
   ],
   "source": [
    "for i in range(1,rows+1):\n",
    "    print(sh_obj.cell(row=i,column=1).value)"
   ]
  },
  {
   "cell_type": "code",
   "execution_count": 9,
   "metadata": {},
   "outputs": [
    {
     "data": {
      "text/plain": [
       "['total_bill',\n",
       " 'tip',\n",
       " 'sex',\n",
       " 'smoker',\n",
       " 'day',\n",
       " 'time',\n",
       " 'size',\n",
       " 'price_per_person',\n",
       " 'Payer Name',\n",
       " 'CC Number',\n",
       " 'Payment ID']"
      ]
     },
     "execution_count": 9,
     "metadata": {},
     "output_type": "execute_result"
    }
   ],
   "source": [
    "get_col=[sh_obj.cell(row=1, column=i).value for i in range(1, cols + 1)]\n",
    "get_col"
   ]
  },
  {
   "cell_type": "code",
   "execution_count": 10,
   "metadata": {},
   "outputs": [],
   "source": [
    "data={header:[] for header in get_col}"
   ]
  },
  {
   "cell_type": "code",
   "execution_count": 11,
   "metadata": {},
   "outputs": [],
   "source": [
    "for i in range(2, rows+1):\n",
    "    for a,header in enumerate(get_col):\n",
    "        col_num=a+1\n",
    "        cell_value=sh_obj.cell(row=i,column=col_num).value\n",
    "        if len(data[header])<10:\n",
    "                    data[header].append(cell_value)"
   ]
  },
  {
   "cell_type": "code",
   "execution_count": 12,
   "metadata": {},
   "outputs": [
    {
     "name": "stdout",
     "output_type": "stream",
     "text": [
      "{'total_bill': [16.99, 10.34, 21.01, 23.68, 24.59, 25.29, 8.77, 26.88, 15.04, 14.78], 'tip': [1.01, 1.66, 3.5, 3.31, 3.61, 4.71, 2, 3.12, 1.96, 3.23], 'sex': ['Female', 'Male', 'Male', 'Male', 'Female', 'Male', 'Male', 'Male', 'Male', 'Male'], 'smoker': ['No', 'No', 'No', 'No', 'No', 'No', 'No', 'No', 'No', 'No'], 'day': ['Sun', 'Sun', 'Sun', 'Sun', 'Sun', 'Sun', 'Sun', 'Sun', 'Sun', 'Sun'], 'time': ['Dinner', 'Dinner', 'Dinner', 'Dinner', 'Dinner', 'Dinner', 'Dinner', 'Dinner', 'Dinner', 'Dinner'], 'size': [2, 3, 3, 2, 4, 4, 2, 4, 2, 2], 'price_per_person': [8.49, 3.45, 7, 11.84, 6.15, 6.32, 4.38, 6.72, 7.52, 7.39], 'Payer Name': ['Christy Cunningham', 'Douglas Tucker', 'Travis Walters', 'Nathaniel Harris', 'Tonya Carter', 'Erik Smith', 'Kristopher Johnson', 'Robert Buck', 'Joseph Mcdonald', 'Jerome Abbott'], 'CC Number': [3560325168603410, 4478071379779230, 6011812112971320, 4676137647685990, 4832732618637220, 213140353657882, 2223727524230340, 3514785077705090, 3522866365840370, 3532124519049780], 'Payment ID': ['Sun2959', 'Sun4608', 'Sun4458', 'Sun5260', 'Sun2251', 'Sun9679', 'Sun5985', 'Sun8157', 'Sun6820', 'Sun3775']}\n"
     ]
    }
   ],
   "source": [
    "print(data)"
   ]
  },
  {
   "cell_type": "markdown",
   "metadata": {},
   "source": []
  },
  {
   "cell_type": "code",
   "execution_count": 13,
   "metadata": {},
   "outputs": [],
   "source": [
    "wb=Workbook()"
   ]
  },
  {
   "cell_type": "code",
   "execution_count": 14,
   "metadata": {},
   "outputs": [],
   "source": [
    "sh=wb.active"
   ]
  },
  {
   "cell_type": "code",
   "execution_count": 15,
   "metadata": {},
   "outputs": [],
   "source": [
    "sh['A1']=10\n",
    "sh['A2']=20\n",
    "sh['A3']=30\n",
    "sh['A4']=\"=SUM(A1:A3)\"\n",
    "\n",
    "data=[[10,233,42],[10,42,44]]\n",
    "for i in data:\n",
    "    sh.append(i)\n",
    "wb.save(\"C:\\\\2nd year\\\\Fidelity_2025_Intern\\\\data1.xlsx\")"
   ]
  },
  {
   "cell_type": "markdown",
   "metadata": {},
   "source": [
    "Barchart"
   ]
  },
  {
   "cell_type": "code",
   "execution_count": 16,
   "metadata": {},
   "outputs": [],
   "source": [
    "from openpyexcel.chart import BarChart,Reference"
   ]
  },
  {
   "cell_type": "code",
   "execution_count": 19,
   "metadata": {},
   "outputs": [
    {
     "ename": "UnboundLocalError",
     "evalue": "cannot access local variable 'rel' where it is not associated with a value",
     "output_type": "error",
     "traceback": [
      "\u001b[1;31m---------------------------------------------------------------------------\u001b[0m",
      "\u001b[1;31mUnboundLocalError\u001b[0m                         Traceback (most recent call last)",
      "Cell \u001b[1;32mIn[19], line 13\u001b[0m\n\u001b[0;32m     11\u001b[0m bar\u001b[38;5;241m.\u001b[39mset_categories(categories)\n\u001b[0;32m     12\u001b[0m sh\u001b[38;5;241m.\u001b[39madd_chart(bar,\u001b[38;5;124m\"\u001b[39m\u001b[38;5;124mE3\u001b[39m\u001b[38;5;124m\"\u001b[39m)\n\u001b[1;32m---> 13\u001b[0m \u001b[43mwb\u001b[49m\u001b[38;5;241;43m.\u001b[39;49m\u001b[43msave\u001b[49m\u001b[43m(\u001b[49m\u001b[38;5;124;43m\"\u001b[39;49m\u001b[38;5;124;43mC://2nd year//Fidelity_2025_Intern//data2.xlsx\u001b[39;49m\u001b[38;5;124;43m\"\u001b[39;49m\u001b[43m)\u001b[49m\n",
      "File \u001b[1;32mc:\\Users\\asus\\AppData\\Local\\Programs\\Python\\Python312\\Lib\\site-packages\\openpyxl\\workbook\\workbook.py:386\u001b[0m, in \u001b[0;36mWorkbook.save\u001b[1;34m(self, filename)\u001b[0m\n\u001b[0;32m    384\u001b[0m \u001b[38;5;28;01mif\u001b[39;00m \u001b[38;5;28mself\u001b[39m\u001b[38;5;241m.\u001b[39mwrite_only \u001b[38;5;129;01mand\u001b[39;00m \u001b[38;5;129;01mnot\u001b[39;00m \u001b[38;5;28mself\u001b[39m\u001b[38;5;241m.\u001b[39mworksheets:\n\u001b[0;32m    385\u001b[0m     \u001b[38;5;28mself\u001b[39m\u001b[38;5;241m.\u001b[39mcreate_sheet()\n\u001b[1;32m--> 386\u001b[0m \u001b[43msave_workbook\u001b[49m\u001b[43m(\u001b[49m\u001b[38;5;28;43mself\u001b[39;49m\u001b[43m,\u001b[49m\u001b[43m \u001b[49m\u001b[43mfilename\u001b[49m\u001b[43m)\u001b[49m\n",
      "File \u001b[1;32mc:\\Users\\asus\\AppData\\Local\\Programs\\Python\\Python312\\Lib\\site-packages\\openpyxl\\writer\\excel.py:294\u001b[0m, in \u001b[0;36msave_workbook\u001b[1;34m(workbook, filename)\u001b[0m\n\u001b[0;32m    292\u001b[0m workbook\u001b[38;5;241m.\u001b[39mproperties\u001b[38;5;241m.\u001b[39mmodified \u001b[38;5;241m=\u001b[39m datetime\u001b[38;5;241m.\u001b[39mdatetime\u001b[38;5;241m.\u001b[39mnow(tz\u001b[38;5;241m=\u001b[39mdatetime\u001b[38;5;241m.\u001b[39mtimezone\u001b[38;5;241m.\u001b[39mutc)\u001b[38;5;241m.\u001b[39mreplace(tzinfo\u001b[38;5;241m=\u001b[39m\u001b[38;5;28;01mNone\u001b[39;00m)\n\u001b[0;32m    293\u001b[0m writer \u001b[38;5;241m=\u001b[39m ExcelWriter(workbook, archive)\n\u001b[1;32m--> 294\u001b[0m \u001b[43mwriter\u001b[49m\u001b[38;5;241;43m.\u001b[39;49m\u001b[43msave\u001b[49m\u001b[43m(\u001b[49m\u001b[43m)\u001b[49m\n\u001b[0;32m    295\u001b[0m \u001b[38;5;28;01mreturn\u001b[39;00m \u001b[38;5;28;01mTrue\u001b[39;00m\n",
      "File \u001b[1;32mc:\\Users\\asus\\AppData\\Local\\Programs\\Python\\Python312\\Lib\\site-packages\\openpyxl\\writer\\excel.py:275\u001b[0m, in \u001b[0;36mExcelWriter.save\u001b[1;34m(self)\u001b[0m\n\u001b[0;32m    273\u001b[0m \u001b[38;5;28;01mdef\u001b[39;00m \u001b[38;5;21msave\u001b[39m(\u001b[38;5;28mself\u001b[39m):\n\u001b[0;32m    274\u001b[0m \u001b[38;5;250m    \u001b[39m\u001b[38;5;124;03m\"\"\"Write data into the archive.\"\"\"\u001b[39;00m\n\u001b[1;32m--> 275\u001b[0m     \u001b[38;5;28;43mself\u001b[39;49m\u001b[38;5;241;43m.\u001b[39;49m\u001b[43mwrite_data\u001b[49m\u001b[43m(\u001b[49m\u001b[43m)\u001b[49m\n\u001b[0;32m    276\u001b[0m     \u001b[38;5;28mself\u001b[39m\u001b[38;5;241m.\u001b[39m_archive\u001b[38;5;241m.\u001b[39mclose()\n",
      "File \u001b[1;32mc:\\Users\\asus\\AppData\\Local\\Programs\\Python\\Python312\\Lib\\site-packages\\openpyxl\\writer\\excel.py:77\u001b[0m, in \u001b[0;36mExcelWriter.write_data\u001b[1;34m(self)\u001b[0m\n\u001b[0;32m     74\u001b[0m     custom_override \u001b[38;5;241m=\u001b[39m CustomOverride()\n\u001b[0;32m     75\u001b[0m     \u001b[38;5;28mself\u001b[39m\u001b[38;5;241m.\u001b[39mmanifest\u001b[38;5;241m.\u001b[39mappend(custom_override)\n\u001b[1;32m---> 77\u001b[0m \u001b[38;5;28;43mself\u001b[39;49m\u001b[38;5;241;43m.\u001b[39;49m\u001b[43m_write_worksheets\u001b[49m\u001b[43m(\u001b[49m\u001b[43m)\u001b[49m\n\u001b[0;32m     78\u001b[0m \u001b[38;5;28mself\u001b[39m\u001b[38;5;241m.\u001b[39m_write_chartsheets()\n\u001b[0;32m     79\u001b[0m \u001b[38;5;28mself\u001b[39m\u001b[38;5;241m.\u001b[39m_write_images()\n",
      "File \u001b[1;32mc:\\Users\\asus\\AppData\\Local\\Programs\\Python\\Python312\\Lib\\site-packages\\openpyxl\\writer\\excel.py:218\u001b[0m, in \u001b[0;36mExcelWriter._write_worksheets\u001b[1;34m(self)\u001b[0m\n\u001b[0;32m    215\u001b[0m \u001b[38;5;28mself\u001b[39m\u001b[38;5;241m.\u001b[39mwrite_worksheet(ws)\n\u001b[0;32m    217\u001b[0m \u001b[38;5;28;01mif\u001b[39;00m ws\u001b[38;5;241m.\u001b[39m_drawing:\n\u001b[1;32m--> 218\u001b[0m     \u001b[38;5;28;43mself\u001b[39;49m\u001b[38;5;241;43m.\u001b[39;49m\u001b[43m_write_drawing\u001b[49m\u001b[43m(\u001b[49m\u001b[43mws\u001b[49m\u001b[38;5;241;43m.\u001b[39;49m\u001b[43m_drawing\u001b[49m\u001b[43m)\u001b[49m\n\u001b[0;32m    220\u001b[0m     \u001b[38;5;28;01mfor\u001b[39;00m r \u001b[38;5;129;01min\u001b[39;00m ws\u001b[38;5;241m.\u001b[39m_rels:\n\u001b[0;32m    221\u001b[0m         \u001b[38;5;28;01mif\u001b[39;00m \u001b[38;5;124m\"\u001b[39m\u001b[38;5;124mdrawing\u001b[39m\u001b[38;5;124m\"\u001b[39m \u001b[38;5;129;01min\u001b[39;00m r\u001b[38;5;241m.\u001b[39mType:\n",
      "File \u001b[1;32mc:\\Users\\asus\\AppData\\Local\\Programs\\Python\\Python312\\Lib\\site-packages\\openpyxl\\writer\\excel.py:141\u001b[0m, in \u001b[0;36mExcelWriter._write_drawing\u001b[1;34m(self, drawing)\u001b[0m\n\u001b[0;32m    139\u001b[0m     img\u001b[38;5;241m.\u001b[39m_id \u001b[38;5;241m=\u001b[39m \u001b[38;5;28mlen\u001b[39m(\u001b[38;5;28mself\u001b[39m\u001b[38;5;241m.\u001b[39m_images)\n\u001b[0;32m    140\u001b[0m rels_path \u001b[38;5;241m=\u001b[39m get_rels_path(drawing\u001b[38;5;241m.\u001b[39mpath)[\u001b[38;5;241m1\u001b[39m:]\n\u001b[1;32m--> 141\u001b[0m \u001b[38;5;28mself\u001b[39m\u001b[38;5;241m.\u001b[39m_archive\u001b[38;5;241m.\u001b[39mwritestr(drawing\u001b[38;5;241m.\u001b[39mpath[\u001b[38;5;241m1\u001b[39m:], tostring(\u001b[43mdrawing\u001b[49m\u001b[38;5;241;43m.\u001b[39;49m\u001b[43m_write\u001b[49m\u001b[43m(\u001b[49m\u001b[43m)\u001b[49m))\n\u001b[0;32m    142\u001b[0m \u001b[38;5;28mself\u001b[39m\u001b[38;5;241m.\u001b[39m_archive\u001b[38;5;241m.\u001b[39mwritestr(rels_path, tostring(drawing\u001b[38;5;241m.\u001b[39m_write_rels()))\n\u001b[0;32m    143\u001b[0m \u001b[38;5;28mself\u001b[39m\u001b[38;5;241m.\u001b[39mmanifest\u001b[38;5;241m.\u001b[39mappend(drawing)\n",
      "File \u001b[1;32mc:\\Users\\asus\\AppData\\Local\\Programs\\Python\\Python312\\Lib\\site-packages\\openpyxl\\drawing\\spreadsheet_drawing.py:294\u001b[0m, in \u001b[0;36mSpreadsheetDrawing._write\u001b[1;34m(self)\u001b[0m\n\u001b[0;32m    291\u001b[0m             child\u001b[38;5;241m.\u001b[39mblipFill\u001b[38;5;241m.\u001b[39mblip\u001b[38;5;241m.\u001b[39membed \u001b[38;5;241m=\u001b[39m \u001b[38;5;124m\"\u001b[39m\u001b[38;5;124mrId\u001b[39m\u001b[38;5;132;01m{0}\u001b[39;00m\u001b[38;5;124m\"\u001b[39m\u001b[38;5;241m.\u001b[39mformat(idx)\n\u001b[0;32m    293\u001b[0m     anchors\u001b[38;5;241m.\u001b[39mappend(anchor)\n\u001b[1;32m--> 294\u001b[0m     \u001b[38;5;28mself\u001b[39m\u001b[38;5;241m.\u001b[39m_rels\u001b[38;5;241m.\u001b[39mappend(\u001b[43mrel\u001b[49m)\n\u001b[0;32m    296\u001b[0m \u001b[38;5;28;01mfor\u001b[39;00m a \u001b[38;5;129;01min\u001b[39;00m anchors:\n\u001b[0;32m    297\u001b[0m     \u001b[38;5;28;01mif\u001b[39;00m \u001b[38;5;28misinstance\u001b[39m(a, OneCellAnchor):\n",
      "\u001b[1;31mUnboundLocalError\u001b[0m: cannot access local variable 'rel' where it is not associated with a value"
     ]
    }
   ],
   "source": [
    "data=[[\"Year\",\"Sales\",\"Ratings\"],[2010,55000,5],[2012,60000,7],[2014,48000,6],[2016,97500,7.5]]\n",
    "\n",
    "wb=Workbook()\n",
    "sh=wb.active\n",
    "for s in data:\n",
    "    sh.append(s)\n",
    "bar=BarChart()\n",
    "data=Reference(sh,min_col=2,max_col=3,min_row=2,max_row=4)\n",
    "categories=Reference(sh,min_col=2,min_row=2,max_row=4)\n",
    "bar.add_data(data,titles_from_data=True)\n",
    "bar.set_categories(categories)\n",
    "sh.add_chart(bar,\"E3\")\n",
    "wb.save(\"C://2nd year//Fidelity_2025_Intern//data2.xlsx\")"
   ]
  }
 ],
 "metadata": {
  "kernelspec": {
   "display_name": "Python 3",
   "language": "python",
   "name": "python3"
  },
  "language_info": {
   "codemirror_mode": {
    "name": "ipython",
    "version": 3
   },
   "file_extension": ".py",
   "mimetype": "text/x-python",
   "name": "python",
   "nbconvert_exporter": "python",
   "pygments_lexer": "ipython3",
   "version": "3.12.5"
  }
 },
 "nbformat": 4,
 "nbformat_minor": 2
}

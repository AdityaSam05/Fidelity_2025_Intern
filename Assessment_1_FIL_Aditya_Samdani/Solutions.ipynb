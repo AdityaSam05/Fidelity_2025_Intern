{
 "cells": [
  {
   "cell_type": "markdown",
   "metadata": {},
   "source": [
    "<h2>Name:-Aditya Samdani"
   ]
  },
  {
   "cell_type": "markdown",
   "metadata": {},
   "source": [
    "<h4>Email:-adityasamdani13@gmail.com"
   ]
  },
  {
   "cell_type": "markdown",
   "metadata": {},
   "source": [
    "<h5>Question Sequence:- 1,2,10,11,12"
   ]
  },
  {
   "cell_type": "markdown",
   "metadata": {},
   "source": [
    "Solution 1:"
   ]
  },
  {
   "cell_type": "code",
   "execution_count": 1,
   "metadata": {},
   "outputs": [
    {
     "name": "stdout",
     "output_type": "stream",
     "text": [
      "ID:1,Name:Aditya Samdani,Role:Manager,Basic:10000000,HRA:45000,DA:10000,Total Salary:10055000\n",
      "ID:2,Name:Lakshay Agarwal,Role:Developer,Basic:400000,HRA:12000,DA:8000,Total Salary:420000\n",
      "ID:3,Name:Shivam Singh,Role:Designer,Basic:35000,HRA:15000,DA:7000,Total Salary:57000\n",
      "ID:4,Name:Ankur Ankurs,Role:Technical Consultant,Basic:50000,HRA:9000,DA:6000,Total Salary:65000\n",
      "ID:5,Name:Kartikay Sharma,Role:HR,Basic:450000,HRA:13500,DA:9000,Total Salary:472500\n"
     ]
    }
   ],
   "source": [
    "employee_details=[\n",
    "    {'id':1,'name':\"Aditya Samdani\",'role':\"Manager\",'Basic':10000000,'HRA':45000,'DA':10000},\n",
    "    {'id':2,'name':\"Lakshay Agarwal\",'role':\"Developer\",'Basic':400000,'HRA':12000,'DA':8000},\n",
    "    {'id':3,'name':\"Shivam Singh\",'role':\"Designer\",'Basic':35000,'HRA':15000,'DA':7000},\n",
    "    {'id':4,'name':\"Ankur Ankurs\",'role':\"Technical Consultant\",'Basic':50000,'HRA':9000,'DA':6000},\n",
    "    {'id':5,'name':\"Kartikay Sharma\",'role':\"HR\",'Basic':450000,'HRA':13500,'DA':9000}]\n",
    "\n",
    "for e in employee_details:\n",
    "    e[\"Total_salary\"]=e['Basic']+e['HRA']+e['DA']\n",
    "\n",
    "with open('employee.txt',\"w\") as file:\n",
    "    for e1 in employee_details:\n",
    "        file.write(f\"ID:{e1['id']},Name:{e1['name']},Role:{e1['role']},Basic:{e1['Basic']},HRA:{e1['HRA']},DA:{e1['DA']},Total Salary:{e1['Total_salary']}\")\n",
    "        file.write(\"\\n\") #To print it in next line\n",
    "\n",
    "with open('employee.txt','r') as file:\n",
    "            read=file.readlines()\n",
    "            for i in read:\n",
    "                print(i.strip())"
   ]
  },
  {
   "cell_type": "markdown",
   "metadata": {},
   "source": [
    "Solution 2:"
   ]
  },
  {
   "cell_type": "code",
   "execution_count": 2,
   "metadata": {},
   "outputs": [
    {
     "name": "stdout",
     "output_type": "stream",
     "text": [
      "Valid:  ['abc@gmail.com', 'ab@tpa.com']\n"
     ]
    }
   ],
   "source": [
    "import re\n",
    "def extract_email(text):\n",
    "    pattern=r'\\b[a-zA-Z][a-zA-Z0-9]*@[a-zA-Z]+\\.(com|in|net|uk)\\b'\n",
    "    emails=[match.group() for match in re.finditer(pattern,text)]\n",
    "    return emails\n",
    "\n",
    "text=\"I know a set of email addresses that we can extract using expression1: abc.df@somecompany.co.uk, abc@gmail.com, xyz.ab@tpa.com, dfg.gh@dp.cp.net . But what about 11.234.abc.ghy@tp.edu, let's check.\"\n",
    "valid=extract_email(text)\n",
    "print(\"Valid: \",valid)"
   ]
  },
  {
   "cell_type": "markdown",
   "metadata": {},
   "source": [
    "Solution 10:"
   ]
  },
  {
   "cell_type": "code",
   "execution_count": 3,
   "metadata": {},
   "outputs": [
    {
     "name": "stdout",
     "output_type": "stream",
     "text": [
      "List_1: ['Name', 'roll_no', 'result']\n",
      "List_2: ['Aditya', '21', 'Pass']\n"
     ]
    }
   ],
   "source": [
    "class Convert_it:\n",
    "    def __init__(self, dict):\n",
    "        self.dict=dict\n",
    "    def make_list(self):\n",
    "        key_list=list(self.dict.keys())\n",
    "        value_list=list(self.dict.values())\n",
    "        return key_list, value_list\n",
    "\n",
    "s={'Name':'Aditya','roll_no':'21','result':'Pass'}\n",
    "c=Convert_it(s)\n",
    "keys,values=c.make_list()\n",
    "print(\"List_1:\",keys)\n",
    "print(\"List_2:\",values)"
   ]
  },
  {
   "cell_type": "markdown",
   "metadata": {},
   "source": [
    "Solution 11:"
   ]
  },
  {
   "cell_type": "code",
   "execution_count": 4,
   "metadata": {},
   "outputs": [
    {
     "name": "stdout",
     "output_type": "stream",
     "text": [
      "Successful Transactions:\n",
      "Date:10:19:22:2266767-10-10-2020, Id: -189829822\n",
      "Pending Transactions:\n",
      "Date:10:10:00:2266767-10-09-2020,Id:-356546565\n"
     ]
    }
   ],
   "source": [
    "def check():\n",
    "    s=[]\n",
    "    p=[]\n",
    "\n",
    "    with open('data1.txt', 'r') as file:\n",
    "        lines = file.readlines()\n",
    "        for line in lines:\n",
    "            words = line.split()\n",
    "            time=words[0]\n",
    "            id=words[1]\n",
    "            status=words[2]\n",
    "\n",
    "            if status=='S':s.append((time,id))\n",
    "            elif status=='P':p.append((time,id))\n",
    "\n",
    "    return s,p\n",
    "\n",
    "successful,pending = check()\n",
    "\n",
    "print(\"Successful Transactions:\")\n",
    "for time,id in successful:\n",
    "    print(f\"Date:{time}, Id: {id}\")\n",
    "\n",
    "print(\"Pending Transactions:\")\n",
    "for time,id in pending:\n",
    "    print(f\"Date:{time},Id:{id}\")"
   ]
  },
  {
   "cell_type": "markdown",
   "metadata": {},
   "source": [
    "Solution 12:"
   ]
  },
  {
   "cell_type": "code",
   "execution_count": 5,
   "metadata": {},
   "outputs": [
    {
     "name": "stdout",
     "output_type": "stream",
     "text": [
      "Warning Messages:\n",
      "03/22 08:51:06 WARNING:.....mailslot_create: setsockopt(MCAST_ADD) failed - EDC8116I Address not available.\n",
      "03/22 08:51:06 WARNING:.....mailslot_create: setsockopt(MCAST_ADD) failed - EDC8116I Address not available.\n",
      "03/22 08:51:06 WARNING:.....mailslot_create: setsockopt(MCAST_ADD) failed - EDC8116I Address not available.\n",
      "03/22 08:51:06 WARNING:.....mailslot_create: setsockopt(MCAST_ADD) failed - EDC8116I Address not available.\n"
     ]
    }
   ],
   "source": [
    "def read_warning():\n",
    "    \n",
    "    with open('data3.txt','r') as file:\n",
    "        line=file.readlines()\n",
    "        warning_line=[l.strip() for l in line if 'WARNING' in l]\n",
    "        if warning_line:\n",
    "            print(\"Warning Messages:\")\n",
    "            for i in warning_line:\n",
    "                print(i)\n",
    "        else: print(\"No warning messages found in the log file.\")\n",
    "\n",
    "read_warning()"
   ]
  }
 ],
 "metadata": {
  "kernelspec": {
   "display_name": "ml",
   "language": "python",
   "name": "python3"
  },
  "language_info": {
   "codemirror_mode": {
    "name": "ipython",
    "version": 3
   },
   "file_extension": ".py",
   "mimetype": "text/x-python",
   "name": "python",
   "nbconvert_exporter": "python",
   "pygments_lexer": "ipython3",
   "version": "3.12.4"
  }
 },
 "nbformat": 4,
 "nbformat_minor": 2
}

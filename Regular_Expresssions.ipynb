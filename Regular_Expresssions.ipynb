{
 "cells": [
  {
   "cell_type": "markdown",
   "metadata": {},
   "source": [
    "Regular Expressions"
   ]
  },
  {
   "cell_type": "code",
   "execution_count": 44,
   "metadata": {},
   "outputs": [
    {
     "name": "stdout",
     "output_type": "stream",
     "text": [
      "[]\n"
     ]
    }
   ],
   "source": [
    "import re\n",
    "str1=\"aditya0505 joe2022\"\n",
    "a=re.findall(r\"\\Aaditya\\d{4}$\",str1)\n",
    "print(a)"
   ]
  },
  {
   "cell_type": "code",
   "execution_count": 43,
   "metadata": {},
   "outputs": [
    {
     "ename": "TypeError",
     "evalue": "unsupported operand type(s) for -: 'list' and 'list'",
     "output_type": "error",
     "traceback": [
      "\u001b[1;31m---------------------------------------------------------------------------\u001b[0m",
      "\u001b[1;31mTypeError\u001b[0m                                 Traceback (most recent call last)",
      "Cell \u001b[1;32mIn[43], line 6\u001b[0m\n\u001b[0;32m      1\u001b[0m \u001b[38;5;66;03m#Allowed Chars are {a-z, A-Z and 0-9}\u001b[39;00m\n\u001b[0;32m      2\u001b[0m \u001b[38;5;66;03m#First character should be lowercase\u001b[39;00m\n\u001b[0;32m      3\u001b[0m \u001b[38;5;66;03m#Second character should be a digit divisible by 3\u001b[39;00m\n\u001b[0;32m      4\u001b[0m \u001b[38;5;66;03m#Length of the identifier is at least 2\u001b[39;00m\n\u001b[0;32m      5\u001b[0m str1\u001b[38;5;241m=\u001b[39m\u001b[38;5;124m\"\u001b[39m\u001b[38;5;124ma344\u001b[39m\u001b[38;5;124m\"\u001b[39m\n\u001b[1;32m----> 6\u001b[0m \u001b[43ma\u001b[49m\u001b[38;5;241;43m-\u001b[39;49m\u001b[43mre\u001b[49m\u001b[38;5;241;43m.\u001b[39;49m\u001b[43mfindall\u001b[49m\u001b[43m(\u001b[49m\u001b[38;5;124;43mr\u001b[39;49m\u001b[38;5;124;43m\"\u001b[39;49m\u001b[38;5;124;43m\\\u001b[39;49m\u001b[38;5;124;43mA[a-z][0369][a-zA-Z0-9]*$\u001b[39;49m\u001b[38;5;124;43m\"\u001b[39;49m\u001b[43m,\u001b[49m\u001b[43mstr1\u001b[49m\u001b[43m)\u001b[49m\n\u001b[0;32m      7\u001b[0m \u001b[38;5;28mprint\u001b[39m(a)\n",
      "\u001b[1;31mTypeError\u001b[0m: unsupported operand type(s) for -: 'list' and 'list'"
     ]
    }
   ],
   "source": [
    "#Allowed Chars are {a-z, A-Z and 0-9}\n",
    "#First character should be lowercase\n",
    "#Second character should be a digit divisible by 3\n",
    "#Length of the identifier is at least 2\n",
    "str1=\"a344\"\n",
    "a-re.findall(r\"\\A[a-z][0369][a-zA-Z0-9]*$\",str1)\n",
    "print(a)"
   ]
  },
  {
   "cell_type": "code",
   "execution_count": 42,
   "metadata": {},
   "outputs": [
    {
     "name": "stdout",
     "output_type": "stream",
     "text": [
      "['RJ06 DR 4444']\n"
     ]
    }
   ],
   "source": [
    "#Write the liscese plate number of your state (RJXX LL XXXX)\n",
    "str1=\"RJ06 DR 4444\"\n",
    "a=re.findall(r\"\\ARJ[0-9]{2}\\s[A-Z]{2}\\s[0-9]{4}$\",str1)\n",
    "print(a)"
   ]
  },
  {
   "cell_type": "code",
   "execution_count": 45,
   "metadata": {},
   "outputs": [
    {
     "name": "stdout",
     "output_type": "stream",
     "text": [
      "[]\n"
     ]
    }
   ],
   "source": [
    "# Email has a pattern(eg:-abc.22@gmail.com)\n",
    "# Your email can start with letter followed by any digits and any symbol except '$' and '@' and '#'\n",
    "# At least contain 2 digits\n",
    "\n",
    "str1=\"a7bc.2@gmail.com\"\n",
    "a=re.findall(r\"\\A[a-zA-Z]{1}\\w[^$@#\\s]*[0-9]{2}[@]{1}[a-zA-Z][mail]{1}[.]{1}[com]{1}$\",str1)\n",
    "print(a)"
   ]
  }
 ],
 "metadata": {
  "kernelspec": {
   "display_name": "Python 3",
   "language": "python",
   "name": "python3"
  },
  "language_info": {
   "codemirror_mode": {
    "name": "ipython",
    "version": 3
   },
   "file_extension": ".py",
   "mimetype": "text/x-python",
   "name": "python",
   "nbconvert_exporter": "python",
   "pygments_lexer": "ipython3",
   "version": "3.12.5"
  }
 },
 "nbformat": 4,
 "nbformat_minor": 2
}

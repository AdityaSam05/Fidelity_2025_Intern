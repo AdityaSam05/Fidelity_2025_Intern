{
 "cells": [
  {
   "cell_type": "code",
   "execution_count": 4,
   "metadata": {},
   "outputs": [
    {
     "name": "stdout",
     "output_type": "stream",
     "text": [
      "Product Data Dictionary:\n",
      "{None: {'name': None, 'price': None, 'quantity': None, 'date_of_purchase': None}}\n"
     ]
    }
   ],
   "source": [
    "import requests\n",
    "\n",
    "API_URL=\"http://127.0.0.1:8000/subject/question/product/\"\n",
    "\n",
    "def get_products():\n",
    "    response=requests.get(API_URL)\n",
    "        \n",
    "    if response.status_code==200:\n",
    "        data=response.json()\n",
    "        dict1={}\n",
    "\n",
    "        for product in data:\n",
    "            id=product.get(\"pr_Id\")\n",
    "            dict1[id]={\n",
    "                \"name\": product.get(\"pr_Name\"),\n",
    "                \"price\": product.get(\"price\"),\n",
    "                \"quantity\": product.get(\"qty\"),\n",
    "                \"date_of_purchase\": product.get(\"dop\"),\n",
    "            }\n",
    "        return dict1\n",
    "    return None\n",
    "\n",
    "products=get_products()\n",
    "if products:\n",
    "    print(\"Product Data Dictionary:\")\n",
    "    print(products)\n"
   ]
  }
 ],
 "metadata": {
  "kernelspec": {
   "display_name": "Python 3",
   "language": "python",
   "name": "python3"
  },
  "language_info": {
   "codemirror_mode": {
    "name": "ipython",
    "version": 3
   },
   "file_extension": ".py",
   "mimetype": "text/x-python",
   "name": "python",
   "nbconvert_exporter": "python",
   "pygments_lexer": "ipython3",
   "version": "3.12.5"
  }
 },
 "nbformat": 4,
 "nbformat_minor": 2
}

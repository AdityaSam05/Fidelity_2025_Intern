{
 "cells": [
  {
   "cell_type": "code",
   "execution_count": 3,
   "metadata": {},
   "outputs": [],
   "source": [
    "#File Handling\n",
    "file=open(\"test.txt\",\"r\") #If the file exists, then it will read the file\n",
    "file=open(\"test.txt\",\"w\") #If the file exists, then it will overwrite the file and if not exists then the file is created\n",
    "file=open(\"test.txt\",\"a\") #If the file exists, then it will append at the end of the file, if not exits then, it will create the file\n",
    "file.close()\n"
   ]
  },
  {
   "cell_type": "code",
   "execution_count": 8,
   "metadata": {},
   "outputs": [
    {
     "name": "stdout",
     "output_type": "stream",
     "text": [
      "He\n",
      "llo World\n"
     ]
    },
    {
     "data": {
      "text/plain": [
       "<function TextIOWrapper.close()>"
      ]
     },
     "execution_count": 8,
     "metadata": {},
     "output_type": "execute_result"
    }
   ],
   "source": [
    "file=open(\"d://test.txt\",\"r\")\n",
    "data=file.read()\n",
    "data1=file.read(2)\n",
    "data2=file.read()\n",
    "print(data)\n",
    "print(data1)\n",
    "print(data2)\n",
    "file.close"
   ]
  },
  {
   "cell_type": "code",
   "execution_count": 9,
   "metadata": {},
   "outputs": [
    {
     "name": "stdout",
     "output_type": "stream",
     "text": [
      "True\n"
     ]
    }
   ],
   "source": [
    "file=open(\"d://test.txt\",\"r\")\n",
    "print(file.readable())\n"
   ]
  },
  {
   "cell_type": "code",
   "execution_count": 14,
   "metadata": {},
   "outputs": [
    {
     "name": "stdout",
     "output_type": "stream",
     "text": [
      "['Delhi']\n"
     ]
    }
   ],
   "source": [
    "file=open(\"d://test.txt\",\"r\")\n",
    "# data=file.readline() # Prints only the current line\n",
    "data=file.readlines() # Reads and provide streams of all the lines in a list.\n",
    "\n",
    "print(data)\n",
    "file.close()"
   ]
  },
  {
   "cell_type": "code",
   "execution_count": 2,
   "metadata": {},
   "outputs": [
    {
     "name": "stdout",
     "output_type": "stream",
     "text": [
      "0\n",
      "5\n",
      "Hello Worl\n"
     ]
    },
    {
     "data": {
      "text/plain": [
       "<function TextIOWrapper.close()>"
      ]
     },
     "execution_count": 2,
     "metadata": {},
     "output_type": "execute_result"
    }
   ],
   "source": [
    "file=open(\"d://test.txt\",\"r\")\n",
    "print(file.tell()) # It will tell you where the cursor is.\n",
    "data=file.read(10)\n",
    "file.seek(5)\n",
    "print(file.tell())\n",
    "\n",
    "print(data)\n",
    "file.close"
   ]
  },
  {
   "cell_type": "code",
   "execution_count": 6,
   "metadata": {},
   "outputs": [
    {
     "name": "stdout",
     "output_type": "stream",
     "text": [
      "['Hello World\\n', 'Delhi\\n', 'My name is John Wick.']\n",
      "3\n"
     ]
    },
    {
     "data": {
      "text/plain": [
       "<function TextIOWrapper.close()>"
      ]
     },
     "execution_count": 6,
     "metadata": {},
     "output_type": "execute_result"
    }
   ],
   "source": [
    "#No. of lines present in the file\n",
    "file=open(\"d://test.txt\",\"r\")\n",
    "data=file.readlines()\n",
    "\n",
    "print(data)\n",
    "print(len(data))\n",
    "file.close"
   ]
  },
  {
   "cell_type": "code",
   "execution_count": 5,
   "metadata": {},
   "outputs": [
    {
     "name": "stdout",
     "output_type": "stream",
     "text": [
      "Hello World\n",
      "Delhi\n",
      "My name is John Wick.\n",
      "39\n"
     ]
    },
    {
     "data": {
      "text/plain": [
       "<function TextIOWrapper.close()>"
      ]
     },
     "execution_count": 5,
     "metadata": {},
     "output_type": "execute_result"
    }
   ],
   "source": [
    "#No. of characters present in the file\n",
    "file=open(\"d://test.txt\",\"r\")\n",
    "data=file.read()\n",
    "\n",
    "print(data)\n",
    "print(len(data))\n",
    "file.close"
   ]
  },
  {
   "cell_type": "code",
   "execution_count": 1,
   "metadata": {},
   "outputs": [
    {
     "name": "stdout",
     "output_type": "stream",
     "text": [
      "Hello World\n",
      "Delhi\n",
      "My name is John Wick.\n",
      "1\n"
     ]
    },
    {
     "data": {
      "text/plain": [
       "<function TextIOWrapper.close()>"
      ]
     },
     "execution_count": 1,
     "metadata": {},
     "output_type": "execute_result"
    }
   ],
   "source": [
    "#No. of words present in the file\n",
    "file=open(\"d://test.txt\",\"r\")\n",
    "data=file.read()\n",
    "\n",
    "print(data)\n",
    "print(len(data))\n",
    "file.close"
   ]
  },
  {
   "cell_type": "code",
   "execution_count": 5,
   "metadata": {},
   "outputs": [
    {
     "name": "stdout",
     "output_type": "stream",
     "text": [
      "Hello World\n",
      "\n",
      "Delhi\n",
      "\n",
      "My name is John Wick.\n"
     ]
    },
    {
     "data": {
      "text/plain": [
       "<function TextIOWrapper.close()>"
      ]
     },
     "execution_count": 5,
     "metadata": {},
     "output_type": "execute_result"
    }
   ],
   "source": [
    "#No. of characters present in the file\n",
    "file=open(\"d://test.txt\",\"r\")\n",
    "# data=file.read()\n",
    "for l in file: # It will read every line and if we use file.read(), it'll read every character.\n",
    "    print(l)\n",
    "\n",
    "file.close"
   ]
  },
  {
   "cell_type": "code",
   "execution_count": 12,
   "metadata": {},
   "outputs": [
    {
     "name": "stdout",
     "output_type": "stream",
     "text": [
      "Hello World\n",
      "\n",
      "2\n"
     ]
    },
    {
     "data": {
      "text/plain": [
       "<function TextIOWrapper.close()>"
      ]
     },
     "execution_count": 12,
     "metadata": {},
     "output_type": "execute_result"
    }
   ],
   "source": [
    "#No. of words present in the file\n",
    "file=open(\"d://test.txt\",\"r\")\n",
    "data=file.readline()\n",
    "\n",
    "print(data)\n",
    "print(len(data.split()))\n",
    "file.close"
   ]
  },
  {
   "cell_type": "code",
   "execution_count": 10,
   "metadata": {},
   "outputs": [
    {
     "name": "stdout",
     "output_type": "stream",
     "text": [
      "Hello World\n",
      "\n",
      "12\n",
      " The char is:  H\n",
      " The char is:  e\n",
      " The char is:  l\n",
      " The char is:  l\n",
      " The char is:  o\n",
      " The char is:   \n",
      " The char is:  W\n",
      " The char is:  o\n",
      " The char is:  r\n",
      " The char is:  l\n",
      " The char is:  d\n",
      " The char is:  \n",
      "\n"
     ]
    },
    {
     "data": {
      "text/plain": [
       "<function TextIOWrapper.close()>"
      ]
     },
     "execution_count": 10,
     "metadata": {},
     "output_type": "execute_result"
    }
   ],
   "source": [
    "#No. of characters present in the file\n",
    "file=open(\"d://test.txt\",\"r\")\n",
    "data=file.readline()\n",
    "\n",
    "print(data)\n",
    "print(len(data))\n",
    "for char in data:\n",
    "    print(\" The char is: \",char)\n",
    "file.close"
   ]
  },
  {
   "cell_type": "markdown",
   "metadata": {},
   "source": [
    "The OS Module"
   ]
  },
  {
   "cell_type": "code",
   "execution_count": 7,
   "metadata": {},
   "outputs": [
    {
     "name": "stdout",
     "output_type": "stream",
     "text": [
      "['.git', 'Exception_Handling.ipynb', 'Fidelity_DS.py', 'Fidelity_prg.py', 'File_Handling.ipynb', 'Functions_Practice.ipynb', 'GST_Program.py', 'Module_Testing.py', 'OOPs_Concepts', 'Practice_Questions.ipynb', 'test.txt', '__pycache__']\n"
     ]
    }
   ],
   "source": [
    "import os\n",
    "print(os.listdir(\".\"))"
   ]
  },
  {
   "cell_type": "code",
   "execution_count": 9,
   "metadata": {},
   "outputs": [
    {
     "name": "stdout",
     "output_type": "stream",
     "text": [
      "d://New_one ['New_Folder2'] ['file.txt']\n",
      "d://New_one\\New_Folder2 [] ['file.txt']\n"
     ]
    }
   ],
   "source": [
    "for dirpath, dir, path in os.walk(\"d://New_one\"):\n",
    "    print(dirpath,dir,path)"
   ]
  },
  {
   "cell_type": "code",
   "execution_count": 15,
   "metadata": {},
   "outputs": [
    {
     "name": "stdout",
     "output_type": "stream",
     "text": [
      "file.txt\n",
      "file.txt\n"
     ]
    }
   ],
   "source": [
    "for dirpath,dir,file in os.walk(\"d://New_one\"):\n",
    "    for i in file:\n",
    "        if i.endswith(\".txt\"): # This function will find the file specific to our searching needs and also you have to use it in a list as it returns string.\n",
    "            print(i)"
   ]
  },
  {
   "cell_type": "code",
   "execution_count": null,
   "metadata": {},
   "outputs": [],
   "source": [
    "# MultiThreading is used for IO bound operations while multiprocessing is used when there is more than one processors.\n",
    "\n",
    "# If you want ot close the file we have to go and close the file explicitly, if we use the with open(\"file_name\",\"Mode\") as f:   , this will implicitly close the file."
   ]
  },
  {
   "cell_type": "markdown",
   "metadata": {},
   "source": [
    "Working on CSV Files"
   ]
  },
  {
   "cell_type": "code",
   "execution_count": 26,
   "metadata": {},
   "outputs": [],
   "source": [
    "import csv\n",
    "with open(\"data.csv\",\"w\",newline=\"\") as f:\n",
    "    w=csv.writer(f)\n",
    "    w.writerow([\"Eno\",\"Ename\",\"Salary\"])\n",
    "    w.writerow([\"69\",\"Emily\",\"6K\"])"
   ]
  },
  {
   "cell_type": "code",
   "execution_count": 27,
   "metadata": {},
   "outputs": [
    {
     "name": "stdout",
     "output_type": "stream",
     "text": [
      "['Eno', 'Ename', 'Salary']\n",
      "['69', 'Emily', '6K']\n"
     ]
    }
   ],
   "source": [
    "with open(\"data.csv\",\"r\",newline=\"\") as f:\n",
    "    for row in csv.reader(f,delimiter=\",\"):\n",
    "        print(row)"
   ]
  },
  {
   "cell_type": "code",
   "execution_count": 28,
   "metadata": {},
   "outputs": [
    {
     "name": "stdout",
     "output_type": "stream",
     "text": [
      "[['Eno', 'Ename', 'Salary'], ['69', 'Emily', '6K']]\n"
     ]
    }
   ],
   "source": [
    "f=open(\"data.csv\",\"r\")\n",
    "s=csv.reader(f)\n",
    "data=list(s)\n",
    "print(data)"
   ]
  },
  {
   "cell_type": "code",
   "execution_count": 29,
   "metadata": {},
   "outputs": [],
   "source": [
    "import pickle\n",
    "d=[21,30,45,90]\n",
    "file=open(\"list.dat\",\"wb\")\n",
    "pickle.dump(d,file)\n",
    "file.close()"
   ]
  },
  {
   "cell_type": "code",
   "execution_count": 35,
   "metadata": {},
   "outputs": [
    {
     "name": "stdout",
     "output_type": "stream",
     "text": [
      "b'\\x80\\x04\\x95\\r\\x00\\x00\\x00\\x00\\x00\\x00\\x00]\\x94(K\\x15K\\x1eK-KZe.'\n",
      "[21, 30, 45, 90]\n"
     ]
    }
   ],
   "source": [
    "with open(\"list.dat\",\"rb\") as f:\n",
    "    print(f.read())\n",
    "    f.seek(0)\n",
    "    print(pickle.load(f))"
   ]
  },
  {
   "cell_type": "code",
   "execution_count": 53,
   "metadata": {},
   "outputs": [],
   "source": [
    "l1=[21, 30, 45, 90]\n",
    "d1={'Name': \"1\", 'Word': \"Key\"}\n",
    "d2={'Name': \"2\", 'Word': \"Value\"}\n",
    "d3={'Name': \"3\", 'Word': \"Pair\"}\n",
    "l2=[1, 2, 3, 4, 5]\n",
    "save=[l1,d1,d2,d3,l2]\n",
    "with open(\"list.txt\",\"w\") as file:\n",
    "    for i in save:\n",
    "        file.write(f\"{i}\")"
   ]
  },
  {
   "cell_type": "code",
   "execution_count": 38,
   "metadata": {},
   "outputs": [
    {
     "name": "stdout",
     "output_type": "stream",
     "text": [
      "No dict\n"
     ]
    }
   ],
   "source": [
    "# You have various types of python objects such as lists and dictionaries. You have to read only dictionaries from that file and dump it into a pickle file in binary format\n",
    "import pickle\n",
    "\n",
    "def dict_only(s):\n",
    "    s=s.strip()\n",
    "    if not s.startswith('{') or not s.endswith('}'):\n",
    "        return None\n",
    "    return eval(s)\n",
    "\n",
    "d={}\n",
    "with open(\"list.txt\", \"r\") as file:\n",
    "    for i in file:\n",
    "        dict1=dict_only(i)\n",
    "        if dict1 is not None:\n",
    "            d.append(dict1)\n",
    "            \n",
    "if not d:\n",
    "    print(\"No dict\")\n",
    "else:\n",
    "    with open(\"list.dat\",\"wb\") as p:\n",
    "        pickle.dump(d,p)\n",
    "\n",
    "for i in d:\n",
    "    print(i)"
   ]
  },
  {
   "cell_type": "code",
   "execution_count": 55,
   "metadata": {},
   "outputs": [
    {
     "ename": "SyntaxError",
     "evalue": "invalid syntax (<string>, line 1)",
     "output_type": "error",
     "traceback": [
      "Traceback \u001b[1;36m(most recent call last)\u001b[0m:\n",
      "\u001b[0m  File \u001b[0;32mc:\\Users\\asus\\AppData\\Local\\Programs\\Python\\Python312\\Lib\\site-packages\\IPython\\core\\interactiveshell.py:3548\u001b[0m in \u001b[0;35mrun_code\u001b[0m\n    exec(code_obj, self.user_global_ns, self.user_ns)\u001b[0m\n",
      "\u001b[1;36m  Cell \u001b[1;32mIn[55], line 5\u001b[1;36m\n\u001b[1;33m    obj=eval(l.strip())\u001b[1;36m\n",
      "\u001b[1;36m  File \u001b[1;32m<string>:1\u001b[1;36m\u001b[0m\n\u001b[1;33m    [21, 30, 45, 90]{'Name': '1', 'Word': 'Key'}{'Name': '2', 'Word': 'Value'}{'Name': '3', 'Word': 'Pair'}[1, 2, 3, 4, 5]\u001b[0m\n\u001b[1;37m                    ^\u001b[0m\n\u001b[1;31mSyntaxError\u001b[0m\u001b[1;31m:\u001b[0m invalid syntax\n"
     ]
    }
   ],
   "source": [
    "pick='output.pkl'\n",
    "d={}\n",
    "with open(\"list.txt\",\"r\") as f:\n",
    "    for l in f:\n",
    "        obj=eval(l.strip())\n",
    "        if isinstance(o,dict):\n",
    "            d.append(o)\n",
    "            \n",
    "with open('output.pkl','wb') as pk:\n",
    "    pickle.dump(d,pk)"
   ]
  }
 ],
 "metadata": {
  "kernelspec": {
   "display_name": "Python 3",
   "language": "python",
   "name": "python3"
  },
  "language_info": {
   "codemirror_mode": {
    "name": "ipython",
    "version": 3
   },
   "file_extension": ".py",
   "mimetype": "text/x-python",
   "name": "python",
   "nbconvert_exporter": "python",
   "pygments_lexer": "ipython3",
   "version": "3.12.5"
  }
 },
 "nbformat": 4,
 "nbformat_minor": 2
}

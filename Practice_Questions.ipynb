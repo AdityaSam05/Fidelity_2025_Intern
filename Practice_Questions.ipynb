{
 "cells": [
  {
   "cell_type": "code",
   "execution_count": 10,
   "metadata": {},
   "outputs": [
    {
     "name": "stdout",
     "output_type": "stream",
     "text": [
      "{}\n"
     ]
    }
   ],
   "source": [
    "# you have two lists. Create a dictionary if the email is valid\n",
    "\n",
    "def check_email(usernames,emails):\n",
    "    email={}\n",
    "    \n",
    "    for username, email_id in (usernames, emails):\n",
    "        if '@' in email_id:\n",
    "            email[username]=email_id\n",
    "    return email\n",
    "\n",
    "usernames=['bob','Mic']\n",
    "emails=['bob13@gmail.com','micgmail.com']\n",
    "\n",
    "final=check_email(usernames, emails)\n",
    "print(final)"
   ]
  },
  {
   "cell_type": "code",
   "execution_count": null,
   "metadata": {},
   "outputs": [
    {
     "name": "stdout",
     "output_type": "stream",
     "text": [
      "{'alice': 'alice@example.com', 'charlie': 'charlie@example.com'}\n"
     ]
    }
   ],
   "source": []
  }
 ],
 "metadata": {
  "kernelspec": {
   "display_name": "Python 3",
   "language": "python",
   "name": "python3"
  },
  "language_info": {
   "codemirror_mode": {
    "name": "ipython",
    "version": 3
   },
   "file_extension": ".py",
   "mimetype": "text/x-python",
   "name": "python",
   "nbconvert_exporter": "python",
   "pygments_lexer": "ipython3",
   "version": "3.12.5"
  }
 },
 "nbformat": 4,
 "nbformat_minor": 2
}

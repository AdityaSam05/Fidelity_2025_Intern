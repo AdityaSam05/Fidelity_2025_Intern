{
 "cells": [
  {
   "cell_type": "code",
   "execution_count": 3,
   "metadata": {},
   "outputs": [
    {
     "name": "stdout",
     "output_type": "stream",
     "text": [
      "<class 'function'>\n"
     ]
    }
   ],
   "source": [
    "def func1(*num):\n",
    "    # print(sum(num))\n",
    "    return 0\n",
    "# func1(10)\n",
    "# func1(10,20,30)\n",
    "print(type(func1))"
   ]
  },
  {
   "cell_type": "code",
   "execution_count": 5,
   "metadata": {},
   "outputs": [
    {
     "name": "stdout",
     "output_type": "stream",
     "text": [
      "<class 'tuple'>\n"
     ]
    }
   ],
   "source": [
    "t1=()\n",
    "print(type(t1))"
   ]
  },
  {
   "cell_type": "code",
   "execution_count": 12,
   "metadata": {},
   "outputs": [
    {
     "name": "stdout",
     "output_type": "stream",
     "text": [
      "30\n",
      "30\n",
      "<class 'function'>\n"
     ]
    }
   ],
   "source": [
    "def f1(a,b):\n",
    "    return (a+b)\n",
    "\n",
    "print(f1(10,20))\n",
    "p=f1\n",
    "print(p(10,20))"
   ]
  },
  {
   "cell_type": "code",
   "execution_count": 18,
   "metadata": {},
   "outputs": [
    {
     "name": "stdout",
     "output_type": "stream",
     "text": [
      "Hello\n"
     ]
    }
   ],
   "source": [
    "# Nested Functions\n",
    "def f1():\n",
    "    def f2():\n",
    "        return 'Hello'\n",
    "    return f2() #return f2\n",
    "\n",
    "print(f1())\n",
    "# print(f1()())\n"
   ]
  },
  {
   "cell_type": "code",
   "execution_count": 20,
   "metadata": {},
   "outputs": [
    {
     "name": "stdout",
     "output_type": "stream",
     "text": [
      "Hello\n"
     ]
    }
   ],
   "source": [
    "def f1():\n",
    "    def f2():\n",
    "        return 'Hello'\n",
    "    return f2()\n",
    "\n",
    "x=f1()\n",
    "print(x)\n"
   ]
  },
  {
   "cell_type": "code",
   "execution_count": 25,
   "metadata": {},
   "outputs": [
    {
     "name": "stdout",
     "output_type": "stream",
     "text": [
      "10\n"
     ]
    }
   ],
   "source": [
    "# Closure Functions\n",
    "def f1(a):\n",
    "    def f2():\n",
    "        print(a)\n",
    "    return f2()\n",
    "\n",
    "f1(10)"
   ]
  },
  {
   "cell_type": "code",
   "execution_count": 32,
   "metadata": {},
   "outputs": [
    {
     "name": "stdout",
     "output_type": "stream",
     "text": [
      "20\n"
     ]
    }
   ],
   "source": [
    "data=10\n",
    "def f1():\n",
    "    global data # YO have to define that the variable is global to access it outside the function\n",
    "    data=data+10\n",
    "    return data\n",
    "print(f1())\n",
    "# Cannot access local variable 'data' where it is not associated with a value"
   ]
  },
  {
   "cell_type": "code",
   "execution_count": 34,
   "metadata": {},
   "outputs": [
    {
     "name": "stdout",
     "output_type": "stream",
     "text": [
      "10\n",
      "3\n"
     ]
    }
   ],
   "source": [
    "# Yo can make a list iterable using the \"iter\" keyword. This can be used instead of using the for loop which prints the entire list. Here, we can print as per our requirements.\n",
    "l1=[10,3,20,30,40]\n",
    "\n",
    "l2=iter(l1)\n",
    "print(next(l2))\n",
    "print(next(l2))"
   ]
  },
  {
   "cell_type": "code",
   "execution_count": 35,
   "metadata": {},
   "outputs": [
    {
     "name": "stdout",
     "output_type": "stream",
     "text": [
      "a\n",
      "b\n"
     ]
    }
   ],
   "source": [
    "# To create our own generator\n",
    "def f1():\n",
    "    yield 'a'\n",
    "    yield 'b'\n",
    "    yield 'c'\n",
    "\n",
    "x=f1()\n",
    "print(next(x))\n",
    "print(next(x))"
   ]
  },
  {
   "cell_type": "code",
   "execution_count": 42,
   "metadata": {},
   "outputs": [
    {
     "name": "stdout",
     "output_type": "stream",
     "text": [
      "<class 'generator'>\n",
      "0\n",
      "1\n"
     ]
    }
   ],
   "source": [
    "t1=(i for i in range(100))\n",
    "print(type(t1))\n",
    "print(next(t1))\n",
    "print(next(t1))"
   ]
  },
  {
   "cell_type": "code",
   "execution_count": 45,
   "metadata": {},
   "outputs": [
    {
     "name": "stdout",
     "output_type": "stream",
     "text": [
      "88\n",
      "120\n",
      "192\n"
     ]
    }
   ],
   "source": [
    "import sys\n",
    "l1=[10,20,30,40]\n",
    "l2=[i for i in range(5)] #List\n",
    "g=(i for i in range(100)) #Generator\n",
    "print(sys.getsizeof(l1))\n",
    "print(sys.getsizeof(l2))\n",
    "print(sys.getsizeof(g)) # It is irrespective of the size as only one value gets stored in the memory and as we proceed using next keyword it gets updated"
   ]
  },
  {
   "cell_type": "code",
   "execution_count": 53,
   "metadata": {},
   "outputs": [
    {
     "name": "stdout",
     "output_type": "stream",
     "text": [
      "40\n"
     ]
    }
   ],
   "source": [
    "def outer(x):\n",
    "    def inner(y=10):\n",
    "        return x+y\n",
    "    return inner\n",
    "\n",
    "# a=outer(20)\n",
    "# print(a())\n",
    "\n",
    "print(outer(20)(20))"
   ]
  },
  {
   "cell_type": "code",
   "execution_count": 58,
   "metadata": {},
   "outputs": [
    {
     "name": "stdout",
     "output_type": "stream",
     "text": [
      "30\n"
     ]
    }
   ],
   "source": [
    "def o(x,y):\n",
    "    def i():\n",
    "        return x+y\n",
    "    return i\n",
    "\n",
    "print(o(10,20)())"
   ]
  },
  {
   "cell_type": "code",
   "execution_count": 59,
   "metadata": {},
   "outputs": [
    {
     "name": "stdout",
     "output_type": "stream",
     "text": [
      "Hello\n",
      "None\n"
     ]
    }
   ],
   "source": [
    "# Passing function as an argument\n",
    "def f1():\n",
    "    print('Hello')\n",
    "    \n",
    "def f2(fun):\n",
    "    return fun()\n",
    "\n",
    "print(f2(f1)) # Here, f2 is called as decorator."
   ]
  },
  {
   "cell_type": "code",
   "execution_count": 1,
   "metadata": {},
   "outputs": [
    {
     "name": "stdout",
     "output_type": "stream",
     "text": [
      "18\n"
     ]
    }
   ],
   "source": [
    "def add(x,y):\n",
    "    return x+y\n",
    "\n",
    "def add1(add,x,y):\n",
    "    return add(x,y)\n",
    "\n",
    "s1=add1(add,10,8)\n",
    "print(s1)"
   ]
  },
  {
   "cell_type": "code",
   "execution_count": 22,
   "metadata": {},
   "outputs": [
    {
     "name": "stdout",
     "output_type": "stream",
     "text": [
      "Hello!\n",
      "Fidelity Productions\n",
      "Signing Off!\n"
     ]
    }
   ],
   "source": [
    "# Decorators\n",
    "def f1(fun):\n",
    "    def wrapper():\n",
    "        print('Hello!')\n",
    "        fun()\n",
    "        print('Signing Off!')\n",
    "    return wrapper\n",
    "\n",
    "@f1 #Decorators: It will shorten our code for the x=f1(f2) as it will directly pass f2 inside f1.\n",
    "def f2():\n",
    "    print('Fidelity Productions')\n",
    "\n",
    "# x=f1(f2)\n",
    "# print(x())\n",
    "# We are using decorators to skip the above lines.\n",
    "\n",
    "f2()"
   ]
  },
  {
   "cell_type": "code",
   "execution_count": 43,
   "metadata": {},
   "outputs": [
    {
     "name": "stdout",
     "output_type": "stream",
     "text": [
      "Hello!\n",
      "Fidelity Productions\n",
      "Signing Off!\n",
      "13\n"
     ]
    }
   ],
   "source": [
    "# Decorators\n",
    "def f1(fun):\n",
    "    def wrapper(a,b):\n",
    "        print('Hello!')\n",
    "        result=fun(a,b)\n",
    "        print('Signing Off!')\n",
    "        return result\n",
    "    return wrapper\n",
    "\n",
    "@f1 #Decorators: It will shorten our code for the x=f1(f2) as it will directly pass f2 inside f1.\n",
    "def f2(a,b):\n",
    "    print('Fidelity Productions')\n",
    "    return a+b\n",
    "\n",
    "# x=f1(f2)\n",
    "# print(x())\n",
    "# We are using decorators to skip the above lines.\n",
    "\n",
    "print(f2(10,3))"
   ]
  },
  {
   "cell_type": "code",
   "execution_count": 44,
   "metadata": {},
   "outputs": [
    {
     "name": "stdout",
     "output_type": "stream",
     "text": [
      "[1, 2, 3]\n"
     ]
    },
    {
     "data": {
      "text/plain": [
       "[1, 2, 4]"
      ]
     },
     "execution_count": 44,
     "metadata": {},
     "output_type": "execute_result"
    }
   ],
   "source": [
    "import Fidelity_DS as ds\n",
    "l1=[1,2,4,7.2,'hello']\n",
    "ds.filter_numbers(l1)"
   ]
  }
 ],
 "metadata": {
  "kernelspec": {
   "display_name": "Python 3",
   "language": "python",
   "name": "python3"
  },
  "language_info": {
   "codemirror_mode": {
    "name": "ipython",
    "version": 3
   },
   "file_extension": ".py",
   "mimetype": "text/x-python",
   "name": "python",
   "nbconvert_exporter": "python",
   "pygments_lexer": "ipython3",
   "version": "3.12.5"
  }
 },
 "nbformat": 4,
 "nbformat_minor": 2
}

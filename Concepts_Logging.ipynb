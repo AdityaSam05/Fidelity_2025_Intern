{
 "cells": [
  {
   "cell_type": "code",
   "execution_count": 1,
   "metadata": {},
   "outputs": [
    {
     "name": "stdout",
     "output_type": "stream",
     "text": [
      "Logging Demo\n"
     ]
    }
   ],
   "source": [
    "import logging\n",
    "logging.basicConfig(filename=\"log_file.txt\",level=logging.WARNING)\n",
    "print(\"Logging Demo\")\n",
    "logging.debug(\"Debug Information\")\n",
    "logging.info(\"Info Information\")\n",
    "logging.warning(\"Warning Information\")"
   ]
  }
 ],
 "metadata": {
  "kernelspec": {
   "display_name": "Python 3",
   "language": "python",
   "name": "python3"
  },
  "language_info": {
   "codemirror_mode": {
    "name": "ipython",
    "version": 3
   },
   "file_extension": ".py",
   "mimetype": "text/x-python",
   "name": "python",
   "nbconvert_exporter": "python",
   "pygments_lexer": "ipython3",
   "version": "3.12.5"
  }
 },
 "nbformat": 4,
 "nbformat_minor": 2
}
